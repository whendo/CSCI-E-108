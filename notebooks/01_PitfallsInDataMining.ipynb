{
  "cells": [
    {
      "cell_type": "markdown",
      "metadata": {
        "id": "ljyYQ59Xpl6O"
      },
      "source": [
        "# Assignment 01 - Pitfalls in Data Mining     \n",
        "## CSCI E-96\n",
        "\n",
        "The goal of data mining is to find important relationships in large complex datasets. These dataset typically contain a large number of variables. The **high-dimensional** nature of the data leads to some commonly encountered pitfalls which lead to incorrect inferences.   \n",
        "\n",
        "In this assignment you will gain a bit of experience with three important concepts in data mining at a small scale. These methods are essential as the scale increases:  \n",
        "\n",
        "1. **False Discovery Rate Control:** The goal of data mining is to find important relationships in large complex datasets. These dataset typically contain a large number of variables. The **high-dimensional** nature of the data leads to some commonly encountered pitfalls of incorrect inference, **false discovery**. A related problem is cutting off a large-scale analysis when a desired relationship is 'found'. This practice of **p-value mining** often leads to unwarranted inferences. You will apply false discovery rate (FDR) control methods to address this problem.   \n",
        "2. **Key-Value Pairs:** Large scale data is typically managed using key-value (KV) pairs. The exercises in this assignment give you some experience working with KV pair data management.  \n",
        "3. **Map and Reduce Processes:** Much of large scale data mining requires use of a split-apply-combine approach. The data is split into manageable chunks, analytic transformations are applied, and the result combined or aggregated. A commonly used class of a split-apply-combine algorithm is MapReduce.\n",
        "\n",
        "In order to keep the scope of this assignment manageable, you will use limited versions of KV pair management and MapReduce. Specifically, you will use common Python tools to implement these concepts rather than dedicated large scale analytic platforms."
      ]
    },
    {
      "cell_type": "code",
      "execution_count": null,
      "metadata": {
        "id": "Myat-bz4pl6Q"
      },
      "outputs": [],
      "source": []
    },
    {
      "cell_type": "markdown",
      "metadata": {
        "id": "tLZGH_KRpl6Q"
      },
      "source": [
        "## Multiple Hypothesis Tesing\n",
        "\n",
        "Testing multiple hypothesis in high-dimensional data is problematic. Exhaustively testing all pairwise relationships between variables in a data set is a commonly used, but generally misleading, from of **multiple comparisons**. The chance of finding false significance, using such a **data dredging** approach, can be surprisingly high.\n",
        "\n",
        "In this exercise you will perform multiple comparisons on **only 20 identically distributed independent (iid)** variables. Ideally, such tests should not find significant relationships, but the actual result is quite different.\n",
        "\n",
        "To get started, execute the code in the cell below to load the required packages."
      ]
    },
    {
      "cell_type": "code",
      "execution_count": 1,
      "metadata": {
        "id": "YwFMdwrOpl6R"
      },
      "outputs": [],
      "source": [
        "import pandas as pd\n",
        "import numpy as np\n",
        "import numpy.random as nr\n",
        "from scipy.stats import ttest_ind, f_oneway\n",
        "from itertools import product, combinations\n",
        "import matplotlib.pyplot as plt\n",
        "import seaborn as sns\n",
        "from scipy.special import comb\n",
        "import math\n",
        "import time\n",
        "\n",
        "pd.set_option(\"display.max_rows\", None, \"display.max_columns\", None)"
      ]
    },
    {
      "cell_type": "markdown",
      "metadata": {
        "id": "YBuangB7pl6R"
      },
      "source": [
        "In this exercise you will apply a [t-test](https://www.statisticshowto.com/probability-and-statistics/t-test/) to all pairwise combinations of identical Normally distributed variables. In this case, we will create a data set with 20 iid Normal distributions of 1000 samples each. Execute the code in the cell below to find this data and display the mean and variance of each variable.  "
      ]
    },
    {
      "cell_type": "code",
      "execution_count": 2,
      "metadata": {
        "id": "eYmOgrk1pl6S",
        "outputId": "31a7581a-4c96-4ab1-9cf0-44052fdeaf18",
        "colab": {
          "base_uri": "https://localhost:8080/"
        }
      },
      "outputs": [
        {
          "output_type": "stream",
          "name": "stdout",
          "text": [
            "The means of the columns are\n",
            " [-1.16191649e-01  2.80829317e-02 -1.78516419e-02 -1.44691489e-02\n",
            "  3.03718152e-02  1.20007442e-02 -9.58845606e-05  1.98662580e-03\n",
            "  4.94154934e-02 -4.11640866e-02 -6.32977862e-03 -5.93868192e-02\n",
            " -2.56373595e-02  1.43568791e-02 -1.44725765e-02 -1.37023955e-02\n",
            "  1.80622439e-02  5.87029691e-02 -2.02650514e-02 -1.56346106e-02]\n",
            "\n",
            "The variances of the columns are\n",
            " [0.94834508 1.04744241 1.0258018  0.96977571 1.0089001  1.04113864\n",
            " 1.00657222 0.99192594 1.04713487 1.04329434 1.04023108 0.96791346\n",
            " 1.03706907 1.07179865 1.01431404 1.05060289 1.02054329 0.9686211\n",
            " 1.02810287 0.99521555]\n"
          ]
        }
      ],
      "source": [
        "ncolumns = 20\n",
        "nr.seed(234)\n",
        "normal_vars = nr.normal(size=(1000,ncolumns))\n",
        "print('The means of the columns are\\n', np.mean(normal_vars, axis = 0))\n",
        "print('\\nThe variances of the columns are\\n', np.var(normal_vars, axis = 0))"
      ]
    },
    {
      "cell_type": "markdown",
      "metadata": {
        "id": "kN6qrCDXpl6S"
      },
      "source": [
        "Notice that means are close to 0.0 and variances are close to 1.0 respectively. As expected, there is not much difference between these variables.\n",
        "\n",
        "How many of these t-tests will show **significance** at the 0.05 cut-off level? With 20 variables there are 190 unique pairwise combinations. We expect to find a number of falsely significant test results from this many pairwise tests."
      ]
    },
    {
      "cell_type": "markdown",
      "metadata": {
        "id": "OLkiGhQZpl6T"
      },
      "source": [
        "## Creating a hash\n",
        "\n",
        "The goal of this exercise is to compute pairwise hypothesis tests of the differences in means for each of the iid Normal vectors. Here you will compute the **key-value**, $[K,V]$, pairs. Each key must represent an index for the two vectors used to compute the test statistic. The keys will then be used to index the results of the hypothesis tests.\n",
        "\n",
        "The question is, how can we create a hash from the keys for the pair of vectors? In this case to we will use a simple, but far from optimal hash. For the two vector indicies $i, j$, for some key and modulo, $m$, we will compute the hash as:  \n",
        "\n",
        "$$h(i,j) = \\big(i + key*(j+1) \\big) mod\\ m$$"
      ]
    },
    {
      "cell_type": "markdown",
      "metadata": {
        "id": "blyEBJRHpl6T"
      },
      "source": [
        "> **Exercise 1-1:** Given that our space of vectors is actually quite small, just 20, we do not need a sophisticated and scalable hash function. We take advantage of the fact that Pandas data frames use hash tables for index lookup. This hashed key is used to store and retrieve the values using the indicies of a Pandas data frame, in about $O(N)$ time.     \n",
        "\n",
        "> In this exercise you will test a simple hash function and its inverse. Examine the code below and notice that the hash function encodes the two indexes into a single integer by simple additional and multiplication. The modulo operation limits the size of the hash table. However, to keep things simple you will not implement any hash collision resolution mechanism. As a result, the size of the table is set much larger than required.  \n",
        "\n",
        "> To test this hash, do the following:    \n",
        "> 1. Create a function called `hash_function` to compute the hash using the formula given above. The arguments to the function are $i$ and $j$, the $hash\\_key$ and the $modulo\\_multiplier$. The defaults of the arguments are $hash\\_key=32$ and $m$ the $modulo\\_multiplier=32$. The hash is then the product $\\big(i + hash\\_key*(j+1) \\big) modulo\\ m$ where $m = hash\\_key * modulo\\_multiplier$. This approach gives a high ratio of possible keys, $m$ to the number range of values $n$, or the number of variables.\n",
        "> 2. Using the Python [ittertools.combinations](https://docs.python.org/3/library/itertools.html#itertools.combinations) function create all unique pairwise combinations of indexes i and j. The arguments to this function are the indexes to the iid Normal vectors. The iterator is `range(ncolumns)` choose 2, since these comparisons are pairwise.    \n",
        "> 3. Within this loop call the hash with the values of $i$ and $j$ as arguments.   \n",
        "> 3. On a single line print the following; the values of i and j, the hash key value, but only if $i \\le 3$. The restriction is to keep the printed output shorter.   "
      ]
    },
    {
      "cell_type": "code",
      "execution_count": 3,
      "metadata": {
        "id": "1tyu-OZCpl6T",
        "outputId": "50cc7fc7-5444-47d2-cd38-9a9cdc5caf94",
        "colab": {
          "base_uri": "https://localhost:8080/"
        }
      },
      "outputs": [
        {
          "output_type": "stream",
          "name": "stdout",
          "text": [
            "i = 0  j = 1   hash = 64\n",
            "i = 0  j = 2   hash = 96\n",
            "i = 0  j = 3   hash = 128\n",
            "i = 0  j = 4   hash = 160\n",
            "i = 0  j = 5   hash = 192\n",
            "i = 0  j = 6   hash = 224\n",
            "i = 0  j = 7   hash = 256\n",
            "i = 0  j = 8   hash = 288\n",
            "i = 0  j = 9   hash = 320\n",
            "i = 0  j = 10   hash = 352\n",
            "i = 0  j = 11   hash = 384\n",
            "i = 0  j = 12   hash = 416\n",
            "i = 0  j = 13   hash = 448\n",
            "i = 0  j = 14   hash = 480\n",
            "i = 0  j = 15   hash = 512\n",
            "i = 0  j = 16   hash = 544\n",
            "i = 0  j = 17   hash = 576\n",
            "i = 0  j = 18   hash = 608\n",
            "i = 0  j = 19   hash = 640\n",
            "i = 1  j = 2   hash = 97\n",
            "i = 1  j = 3   hash = 129\n",
            "i = 1  j = 4   hash = 161\n",
            "i = 1  j = 5   hash = 193\n",
            "i = 1  j = 6   hash = 225\n",
            "i = 1  j = 7   hash = 257\n",
            "i = 1  j = 8   hash = 289\n",
            "i = 1  j = 9   hash = 321\n",
            "i = 1  j = 10   hash = 353\n",
            "i = 1  j = 11   hash = 385\n",
            "i = 1  j = 12   hash = 417\n",
            "i = 1  j = 13   hash = 449\n",
            "i = 1  j = 14   hash = 481\n",
            "i = 1  j = 15   hash = 513\n",
            "i = 1  j = 16   hash = 545\n",
            "i = 1  j = 17   hash = 577\n",
            "i = 1  j = 18   hash = 609\n",
            "i = 1  j = 19   hash = 641\n",
            "i = 2  j = 3   hash = 130\n",
            "i = 2  j = 4   hash = 162\n",
            "i = 2  j = 5   hash = 194\n",
            "i = 2  j = 6   hash = 226\n",
            "i = 2  j = 7   hash = 258\n",
            "i = 2  j = 8   hash = 290\n",
            "i = 2  j = 9   hash = 322\n",
            "i = 2  j = 10   hash = 354\n",
            "i = 2  j = 11   hash = 386\n",
            "i = 2  j = 12   hash = 418\n",
            "i = 2  j = 13   hash = 450\n",
            "i = 2  j = 14   hash = 482\n",
            "i = 2  j = 15   hash = 514\n",
            "i = 2  j = 16   hash = 546\n",
            "i = 2  j = 17   hash = 578\n",
            "i = 2  j = 18   hash = 610\n",
            "i = 2  j = 19   hash = 642\n",
            "i = 3  j = 4   hash = 163\n",
            "i = 3  j = 5   hash = 195\n",
            "i = 3  j = 6   hash = 227\n",
            "i = 3  j = 7   hash = 259\n",
            "i = 3  j = 8   hash = 291\n",
            "i = 3  j = 9   hash = 323\n",
            "i = 3  j = 10   hash = 355\n",
            "i = 3  j = 11   hash = 387\n",
            "i = 3  j = 12   hash = 419\n",
            "i = 3  j = 13   hash = 451\n",
            "i = 3  j = 14   hash = 483\n",
            "i = 3  j = 15   hash = 515\n",
            "i = 3  j = 16   hash = 547\n",
            "i = 3  j = 17   hash = 579\n",
            "i = 3  j = 18   hash = 611\n",
            "i = 3  j = 19   hash = 643\n"
          ]
        }
      ],
      "source": [
        "## Your code goes below\n",
        "def hash_function(i, j, hash_key=32, modulo_multiplier=32):\n",
        "    ## Put your code below.\n",
        "    return (i + hash_key * (j + 1)) % (hash_key * modulo_multiplier)\n",
        "\n",
        "for i,j in combinations(range(ncolumns), 2):\n",
        "    if i <= 3:\n",
        "        hash = hash_function(i,j)\n",
        "        print('i = ' + str(i) + '  j = ' + str(j) + '   hash = ' + str(hash))"
      ]
    },
    {
      "cell_type": "markdown",
      "metadata": {
        "id": "cUI76EUZpl6U"
      },
      "source": [
        "> Examine the key pairs and the hash values. The question is, are there any hash collisions? This can be done as follows:   \n",
        "> 5. Compute a list of the hash values for all combinations of $i$ and $j$.   \n",
        "> 6. Print the length of the list.  \n",
        "> 7. Print the length of the unique values of the hash. You can find the unique values in a list with the [numpy.unique](https://numpy.org/doc/stable/reference/generated/numpy.unique.html) function."
      ]
    },
    {
      "cell_type": "code",
      "execution_count": 4,
      "metadata": {
        "id": "q4El-QQYpl6U",
        "outputId": "f5c718ed-c405-4f5d-d533-66de450eb2d9",
        "colab": {
          "base_uri": "https://localhost:8080/"
        }
      },
      "outputs": [
        {
          "output_type": "stream",
          "name": "stdout",
          "text": [
            "Length of list: 190\n",
            "Length of Unique Hash Values: 190\n"
          ]
        }
      ],
      "source": [
        "## Put your code below.\n",
        "hash_value_list = [hash_function(i,j) for i,j in combinations(range(ncolumns), 2)]\n",
        "print(\"Length of list:\",len(hash_value_list))\n",
        "print(\"Length of Unique Hash Values:\",len(np.unique(hash_value_list)))"
      ]
    },
    {
      "cell_type": "markdown",
      "metadata": {
        "id": "ise3J01dpl6U"
      },
      "source": [
        "> Examine the results you have printed. Is there any evidence of hash key collisions?     \n",
        "> The ratio of $m/n$ is deliberately kept high since the simple hash function has no collision resolution mechanism. Optionally, you can try reducing this ration (the multiplier) to 16 and 8, noting the increase in hash collisions.  \n",
        "> **End of exercise.**"
      ]
    },
    {
      "cell_type": "markdown",
      "metadata": {
        "id": "Q_Bl51yipl6U"
      },
      "source": [
        "> **Answer:**  \n",
        "The hash value list has no repetitions, so no evidence of collisions"
      ]
    },
    {
      "cell_type": "markdown",
      "metadata": {
        "id": "mIAIni7Xpl6V"
      },
      "source": [
        "## A MapReduce Example   \n",
        "\n",
        "In the following steps you will use a simplified MapReduce framework to find and sort every possible pairwise t-test result for the `normal_vars` table. To do so you must find all **combinations** of keys, $\\{i,j\\}$. The MapReduce processes you will create, are intended to create a table of these unique pairwise key combinations. The t-test is then computed from the values in the `normal_vars` table in the Reduce process. This MapReduce process only creates the required key combinations. The values remain in the `normal_vars` table. This approach simplifies some of the bookkeeping.     \n",
        "\n",
        "In a bit more details the steps for this algorithm are:   \n",
        "- The **Map process** builds a hash table with the hash of i,j as key and i,j as values. As has been noted most of this hash table will contain NaNs. The hash table is still relatively small, since the values of the vectors used for the statistical calculations are not stored in the table, only the results. Please don't be confused by the switching roles of i,j as they act as keys and values at different times.   \n",
        "- The **Shuffle** scans the hash table for non-empty rows (not NaN values for i,j) and builds a table of unique combination of keys i and j.   \n",
        "- The **Reduce process** uses the keys i,j from the Shuffle process to look up the columns of the numeric random variables in the `normal_vars` table. The resulting table contains the i,j pairs as the keys for the random variable lookup. The t-test is applied to these numeric values. The results are sorted and returned.   \n",
        "\n",
        "It is clear that at this small scale one could compute the t-test results for the combinations of the random variables directly. The point of the exercises is to get some experience working with key-value pairs and the MapReduce framework.  "
      ]
    },
    {
      "cell_type": "markdown",
      "metadata": {
        "id": "EMV5Qk2Apl6V"
      },
      "source": [
        "### The map process\n",
        "\n",
        "We are constructing this example a map and a reduce process. The processes are intended to compute the hypothesis test for differences of means between all the pairs of vectors. The first step is the map process, which creates the keys, or values of $i$ and $j$ for these pairs. This is an example of a **similarity join**.    \n",
        "\n",
        "> **Computational Note:** In this exercise you will create your own simple hash table using a Pandas data frame. The data frame will be indexed by the key value computed by hashing the $[i,j]$ pairs, which gives nearly $O(n)$ performance for lookups. This implementation is only for demonstration purposes only and has several significant limitations compared to a production quality implementation.\n",
        "> 1. You will use a fixed length datafrsme. We take advantage of the fact the index lookup in Pandas data frames uses a hash table. In other words, referencing a row (or column) of a Pandas data frame is a key-value lookup using a hash table.\n",
        "> 2. You will not need to implement a collision resolution mechanism so a larger table is required, which is not particularly memory efficient. At scale, a sparse representation of the table would be used.     \n",
        "> 3. You will not implement any table resizing mechanism. Again, a fixed size table is limited in the quantity of data the table can store and also resulting in poor memory utilization.  \n",
        "> As an alternative, we could use the built hashed $[K,V]$ pairs of a Python dictionary. However, a dictionary only allows one key value and we are working with 2, $\\{i,j\\}$. You could create a hash and then hash this hash with the built in function. In this care we will take the more direct route just described. If you are not familiar with Python dictionaries you can find a short tutorial [here](https://www.tutorialspoint.com/python_data_structure/python_hash_table.htm), as well as many other places on the web.   \n",
        "\n",
        "> **Exercise 1-2:** You will now create the code for the map which build a data frame with $i, j$ key pairs indexed by the hash. By the following steps you will create code that represents a map task.  a\n",
        "> 1. Create a data frame with two columns $i$ and $j$ with number of rows $= hash\\_key * modulo\\_multiplier $ and set all values to $= numpy.nan$.\n",
        "> 2. Create a loop over all combinations of the pairs of i and j.   \n",
        "> 2. Compute the hash key value for the indexes, i and j.  \n",
        "> 4. Add the $i$ and $j$ values to the row indeed by the hash key.  \n",
        "> 5. Return the hash table.\n",
        "> 6. Execute the function to create the hash table.\n",
        "> 7. Compute and print the length of the hash table."
      ]
    },
    {
      "cell_type": "code",
      "execution_count": 5,
      "metadata": {
        "id": "X3-v_cn1pl6V",
        "outputId": "987ce4e3-9f25-4dc0-9b3b-859389882b59",
        "colab": {
          "base_uri": "https://localhost:8080/",
          "height": 242
        }
      },
      "outputs": [
        {
          "output_type": "stream",
          "name": "stdout",
          "text": [
            "length of the table = 32768\n",
            "Length of non-na values in table = 190\n"
          ]
        },
        {
          "output_type": "execute_result",
          "data": {
            "text/plain": [
              "     i    j\n",
              "0  NaN  NaN\n",
              "1  NaN  NaN\n",
              "2  NaN  NaN\n",
              "3  NaN  NaN\n",
              "4  NaN  NaN"
            ],
            "text/html": [
              "\n",
              "  <div id=\"df-f596424d-3d32-477d-82dc-848a116a6f67\" class=\"colab-df-container\">\n",
              "    <div>\n",
              "<style scoped>\n",
              "    .dataframe tbody tr th:only-of-type {\n",
              "        vertical-align: middle;\n",
              "    }\n",
              "\n",
              "    .dataframe tbody tr th {\n",
              "        vertical-align: top;\n",
              "    }\n",
              "\n",
              "    .dataframe thead th {\n",
              "        text-align: right;\n",
              "    }\n",
              "</style>\n",
              "<table border=\"1\" class=\"dataframe\">\n",
              "  <thead>\n",
              "    <tr style=\"text-align: right;\">\n",
              "      <th></th>\n",
              "      <th>i</th>\n",
              "      <th>j</th>\n",
              "    </tr>\n",
              "  </thead>\n",
              "  <tbody>\n",
              "    <tr>\n",
              "      <th>0</th>\n",
              "      <td>NaN</td>\n",
              "      <td>NaN</td>\n",
              "    </tr>\n",
              "    <tr>\n",
              "      <th>1</th>\n",
              "      <td>NaN</td>\n",
              "      <td>NaN</td>\n",
              "    </tr>\n",
              "    <tr>\n",
              "      <th>2</th>\n",
              "      <td>NaN</td>\n",
              "      <td>NaN</td>\n",
              "    </tr>\n",
              "    <tr>\n",
              "      <th>3</th>\n",
              "      <td>NaN</td>\n",
              "      <td>NaN</td>\n",
              "    </tr>\n",
              "    <tr>\n",
              "      <th>4</th>\n",
              "      <td>NaN</td>\n",
              "      <td>NaN</td>\n",
              "    </tr>\n",
              "  </tbody>\n",
              "</table>\n",
              "</div>\n",
              "    <div class=\"colab-df-buttons\">\n",
              "\n",
              "  <div class=\"colab-df-container\">\n",
              "    <button class=\"colab-df-convert\" onclick=\"convertToInteractive('df-f596424d-3d32-477d-82dc-848a116a6f67')\"\n",
              "            title=\"Convert this dataframe to an interactive table.\"\n",
              "            style=\"display:none;\">\n",
              "\n",
              "  <svg xmlns=\"http://www.w3.org/2000/svg\" height=\"24px\" viewBox=\"0 -960 960 960\">\n",
              "    <path d=\"M120-120v-720h720v720H120Zm60-500h600v-160H180v160Zm220 220h160v-160H400v160Zm0 220h160v-160H400v160ZM180-400h160v-160H180v160Zm440 0h160v-160H620v160ZM180-180h160v-160H180v160Zm440 0h160v-160H620v160Z\"/>\n",
              "  </svg>\n",
              "    </button>\n",
              "\n",
              "  <style>\n",
              "    .colab-df-container {\n",
              "      display:flex;\n",
              "      gap: 12px;\n",
              "    }\n",
              "\n",
              "    .colab-df-convert {\n",
              "      background-color: #E8F0FE;\n",
              "      border: none;\n",
              "      border-radius: 50%;\n",
              "      cursor: pointer;\n",
              "      display: none;\n",
              "      fill: #1967D2;\n",
              "      height: 32px;\n",
              "      padding: 0 0 0 0;\n",
              "      width: 32px;\n",
              "    }\n",
              "\n",
              "    .colab-df-convert:hover {\n",
              "      background-color: #E2EBFA;\n",
              "      box-shadow: 0px 1px 2px rgba(60, 64, 67, 0.3), 0px 1px 3px 1px rgba(60, 64, 67, 0.15);\n",
              "      fill: #174EA6;\n",
              "    }\n",
              "\n",
              "    .colab-df-buttons div {\n",
              "      margin-bottom: 4px;\n",
              "    }\n",
              "\n",
              "    [theme=dark] .colab-df-convert {\n",
              "      background-color: #3B4455;\n",
              "      fill: #D2E3FC;\n",
              "    }\n",
              "\n",
              "    [theme=dark] .colab-df-convert:hover {\n",
              "      background-color: #434B5C;\n",
              "      box-shadow: 0px 1px 3px 1px rgba(0, 0, 0, 0.15);\n",
              "      filter: drop-shadow(0px 1px 2px rgba(0, 0, 0, 0.3));\n",
              "      fill: #FFFFFF;\n",
              "    }\n",
              "  </style>\n",
              "\n",
              "    <script>\n",
              "      const buttonEl =\n",
              "        document.querySelector('#df-f596424d-3d32-477d-82dc-848a116a6f67 button.colab-df-convert');\n",
              "      buttonEl.style.display =\n",
              "        google.colab.kernel.accessAllowed ? 'block' : 'none';\n",
              "\n",
              "      async function convertToInteractive(key) {\n",
              "        const element = document.querySelector('#df-f596424d-3d32-477d-82dc-848a116a6f67');\n",
              "        const dataTable =\n",
              "          await google.colab.kernel.invokeFunction('convertToInteractive',\n",
              "                                                    [key], {});\n",
              "        if (!dataTable) return;\n",
              "\n",
              "        const docLinkHtml = 'Like what you see? Visit the ' +\n",
              "          '<a target=\"_blank\" href=https://colab.research.google.com/notebooks/data_table.ipynb>data table notebook</a>'\n",
              "          + ' to learn more about interactive tables.';\n",
              "        element.innerHTML = '';\n",
              "        dataTable['output_type'] = 'display_data';\n",
              "        await google.colab.output.renderOutput(dataTable, element);\n",
              "        const docLink = document.createElement('div');\n",
              "        docLink.innerHTML = docLinkHtml;\n",
              "        element.appendChild(docLink);\n",
              "      }\n",
              "    </script>\n",
              "  </div>\n",
              "\n",
              "\n",
              "<div id=\"df-af56d7cc-9214-42d2-9344-86889bc01456\">\n",
              "  <button class=\"colab-df-quickchart\" onclick=\"quickchart('df-af56d7cc-9214-42d2-9344-86889bc01456')\"\n",
              "            title=\"Suggest charts\"\n",
              "            style=\"display:none;\">\n",
              "\n",
              "<svg xmlns=\"http://www.w3.org/2000/svg\" height=\"24px\"viewBox=\"0 0 24 24\"\n",
              "     width=\"24px\">\n",
              "    <g>\n",
              "        <path d=\"M19 3H5c-1.1 0-2 .9-2 2v14c0 1.1.9 2 2 2h14c1.1 0 2-.9 2-2V5c0-1.1-.9-2-2-2zM9 17H7v-7h2v7zm4 0h-2V7h2v10zm4 0h-2v-4h2v4z\"/>\n",
              "    </g>\n",
              "</svg>\n",
              "  </button>\n",
              "\n",
              "<style>\n",
              "  .colab-df-quickchart {\n",
              "      --bg-color: #E8F0FE;\n",
              "      --fill-color: #1967D2;\n",
              "      --hover-bg-color: #E2EBFA;\n",
              "      --hover-fill-color: #174EA6;\n",
              "      --disabled-fill-color: #AAA;\n",
              "      --disabled-bg-color: #DDD;\n",
              "  }\n",
              "\n",
              "  [theme=dark] .colab-df-quickchart {\n",
              "      --bg-color: #3B4455;\n",
              "      --fill-color: #D2E3FC;\n",
              "      --hover-bg-color: #434B5C;\n",
              "      --hover-fill-color: #FFFFFF;\n",
              "      --disabled-bg-color: #3B4455;\n",
              "      --disabled-fill-color: #666;\n",
              "  }\n",
              "\n",
              "  .colab-df-quickchart {\n",
              "    background-color: var(--bg-color);\n",
              "    border: none;\n",
              "    border-radius: 50%;\n",
              "    cursor: pointer;\n",
              "    display: none;\n",
              "    fill: var(--fill-color);\n",
              "    height: 32px;\n",
              "    padding: 0;\n",
              "    width: 32px;\n",
              "  }\n",
              "\n",
              "  .colab-df-quickchart:hover {\n",
              "    background-color: var(--hover-bg-color);\n",
              "    box-shadow: 0 1px 2px rgba(60, 64, 67, 0.3), 0 1px 3px 1px rgba(60, 64, 67, 0.15);\n",
              "    fill: var(--button-hover-fill-color);\n",
              "  }\n",
              "\n",
              "  .colab-df-quickchart-complete:disabled,\n",
              "  .colab-df-quickchart-complete:disabled:hover {\n",
              "    background-color: var(--disabled-bg-color);\n",
              "    fill: var(--disabled-fill-color);\n",
              "    box-shadow: none;\n",
              "  }\n",
              "\n",
              "  .colab-df-spinner {\n",
              "    border: 2px solid var(--fill-color);\n",
              "    border-color: transparent;\n",
              "    border-bottom-color: var(--fill-color);\n",
              "    animation:\n",
              "      spin 1s steps(1) infinite;\n",
              "  }\n",
              "\n",
              "  @keyframes spin {\n",
              "    0% {\n",
              "      border-color: transparent;\n",
              "      border-bottom-color: var(--fill-color);\n",
              "      border-left-color: var(--fill-color);\n",
              "    }\n",
              "    20% {\n",
              "      border-color: transparent;\n",
              "      border-left-color: var(--fill-color);\n",
              "      border-top-color: var(--fill-color);\n",
              "    }\n",
              "    30% {\n",
              "      border-color: transparent;\n",
              "      border-left-color: var(--fill-color);\n",
              "      border-top-color: var(--fill-color);\n",
              "      border-right-color: var(--fill-color);\n",
              "    }\n",
              "    40% {\n",
              "      border-color: transparent;\n",
              "      border-right-color: var(--fill-color);\n",
              "      border-top-color: var(--fill-color);\n",
              "    }\n",
              "    60% {\n",
              "      border-color: transparent;\n",
              "      border-right-color: var(--fill-color);\n",
              "    }\n",
              "    80% {\n",
              "      border-color: transparent;\n",
              "      border-right-color: var(--fill-color);\n",
              "      border-bottom-color: var(--fill-color);\n",
              "    }\n",
              "    90% {\n",
              "      border-color: transparent;\n",
              "      border-bottom-color: var(--fill-color);\n",
              "    }\n",
              "  }\n",
              "</style>\n",
              "\n",
              "  <script>\n",
              "    async function quickchart(key) {\n",
              "      const quickchartButtonEl =\n",
              "        document.querySelector('#' + key + ' button');\n",
              "      quickchartButtonEl.disabled = true;  // To prevent multiple clicks.\n",
              "      quickchartButtonEl.classList.add('colab-df-spinner');\n",
              "      try {\n",
              "        const charts = await google.colab.kernel.invokeFunction(\n",
              "            'suggestCharts', [key], {});\n",
              "      } catch (error) {\n",
              "        console.error('Error during call to suggestCharts:', error);\n",
              "      }\n",
              "      quickchartButtonEl.classList.remove('colab-df-spinner');\n",
              "      quickchartButtonEl.classList.add('colab-df-quickchart-complete');\n",
              "    }\n",
              "    (() => {\n",
              "      let quickchartButtonEl =\n",
              "        document.querySelector('#df-af56d7cc-9214-42d2-9344-86889bc01456 button');\n",
              "      quickchartButtonEl.style.display =\n",
              "        google.colab.kernel.accessAllowed ? 'block' : 'none';\n",
              "    })();\n",
              "  </script>\n",
              "</div>\n",
              "\n",
              "    </div>\n",
              "  </div>\n"
            ],
            "application/vnd.google.colaboratory.intrinsic+json": {
              "type": "dataframe",
              "variable_name": "hash_table",
              "summary": "{\n  \"name\": \"hash_table\",\n  \"rows\": 32768,\n  \"fields\": [\n    {\n      \"column\": \"i\",\n      \"properties\": {\n        \"dtype\": \"date\",\n        \"min\": 0,\n        \"max\": 18,\n        \"num_unique_values\": 19,\n        \"samples\": [\n          0,\n          5,\n          11\n        ],\n        \"semantic_type\": \"\",\n        \"description\": \"\"\n      }\n    },\n    {\n      \"column\": \"j\",\n      \"properties\": {\n        \"dtype\": \"date\",\n        \"min\": 1,\n        \"max\": 19,\n        \"num_unique_values\": 19,\n        \"samples\": [\n          1,\n          6,\n          12\n        ],\n        \"semantic_type\": \"\",\n        \"description\": \"\"\n      }\n    }\n  ]\n}"
            }
          },
          "metadata": {},
          "execution_count": 5
        }
      ],
      "source": [
        "def map_hypothesis(vars, hash_key=1024, modulo_multiplier=32):\n",
        "    ## Put your code below.\n",
        "    df = pd.DataFrame(index=range(hash_key * modulo_multiplier), columns=['i','j'])\n",
        "    for i,j in combinations(range(ncolumns), 2):\n",
        "        hash = hash_function(i,j,hash_key,modulo_multiplier)\n",
        "        df.loc[hash,'i'] = i\n",
        "        df.loc[hash,'j'] = j\n",
        "\n",
        "    return df, hash_key * modulo_multiplier\n",
        "\n",
        "hash_table, nhashes = map_hypothesis(normal_vars)\n",
        "print('length of the table = ' + str(len(hash_table)))\n",
        "print('Length of non-na values in table =', len(hash_table.dropna()))\n",
        "hash_table.head()"
      ]
    },
    {
      "cell_type": "markdown",
      "metadata": {
        "id": "YRypPeHOpl6V"
      },
      "source": [
        "> **End of exercise.**"
      ]
    },
    {
      "cell_type": "markdown",
      "metadata": {
        "id": "9uBcrSVUpl6V"
      },
      "source": [
        "### The shuffle and reduce task\n",
        "\n",
        "Now that you have the keys for the pairwise combinations of the vectors it is time to perform the reduce process. The reduce process computes the pair-wise t-statistics and p-values. These statistical values are indexed by the keys of the pair of vectors. This process reduces the full vectors of values down to just two numbers for each pair of vectors.\n",
        "\n",
        "> **Exercise 1-3:** You will now create and apply the following code for the reduce process:   \n",
        "> 1. Create an empty data frame, called  `test_results`, with columns, `i`, `j`, `t_statistic`, and `p_value, and length of the previously created hash table.    \n",
        "> 2. Iterate over the combinations of possible $\\{i,j \\}$ tuple.  \n",
        "> 3. For the $i,j$ pairs look up the variable vector values and use them to compute the t-statistic and p-value with the [scipy.stats.ttest_ind](https://docs.scipy.org/doc/scipy/reference/generated/scipy.stats.ttest_ind.html) function.\n",
        "> 4. Assign the values to the row in the data frame indexed by the hash key. Use the `hash_function` previously created, which will work with the Pandas `loc` method.     \n",
        "> 5. Return the data frame, sorted by p-value in ascending order, using the [Pandas.DataFrame.sort_values](https://pandas.pydata.org/docs/reference/api/pandas.DataFrame.sort_values.html).    \n",
        "> 6. Execute your function and save the returned data frame.   \n",
        "> 7. Display the first 10 rows of the data frame.  "
      ]
    },
    {
      "cell_type": "code",
      "execution_count": 12,
      "metadata": {
        "id": "LAAwgXlzpl6V",
        "outputId": "997cc157-963b-4031-90a2-77d97e6807cd",
        "colab": {
          "base_uri": "https://localhost:8080/",
          "height": 363
        }
      },
      "outputs": [
        {
          "output_type": "execute_result",
          "data": {
            "text/plain": [
              "        i   j  t_statistic   p_value\n",
              "18432   0  17     3.992565  0.000068\n",
              "9216    0   8     3.705426  0.000217\n",
              "5120    0   4     3.311203  0.000946\n",
              "2048    0   1     3.227865  0.001267\n",
              "17408   0  16     3.024120  0.002525\n",
              "14336   0  13     2.903111  0.003735\n",
              "6144    0   5     2.872598  0.004114\n",
              "18443  11  17     2.682146  0.007375\n",
              "8192    0   7     2.681570  0.007388\n",
              "7168    0   6     2.624430  0.008746"
            ],
            "text/html": [
              "\n",
              "  <div id=\"df-6941cb90-878d-401d-9bc3-bd42c5623956\" class=\"colab-df-container\">\n",
              "    <div>\n",
              "<style scoped>\n",
              "    .dataframe tbody tr th:only-of-type {\n",
              "        vertical-align: middle;\n",
              "    }\n",
              "\n",
              "    .dataframe tbody tr th {\n",
              "        vertical-align: top;\n",
              "    }\n",
              "\n",
              "    .dataframe thead th {\n",
              "        text-align: right;\n",
              "    }\n",
              "</style>\n",
              "<table border=\"1\" class=\"dataframe\">\n",
              "  <thead>\n",
              "    <tr style=\"text-align: right;\">\n",
              "      <th></th>\n",
              "      <th>i</th>\n",
              "      <th>j</th>\n",
              "      <th>t_statistic</th>\n",
              "      <th>p_value</th>\n",
              "    </tr>\n",
              "  </thead>\n",
              "  <tbody>\n",
              "    <tr>\n",
              "      <th>18432</th>\n",
              "      <td>0</td>\n",
              "      <td>17</td>\n",
              "      <td>3.992565</td>\n",
              "      <td>0.000068</td>\n",
              "    </tr>\n",
              "    <tr>\n",
              "      <th>9216</th>\n",
              "      <td>0</td>\n",
              "      <td>8</td>\n",
              "      <td>3.705426</td>\n",
              "      <td>0.000217</td>\n",
              "    </tr>\n",
              "    <tr>\n",
              "      <th>5120</th>\n",
              "      <td>0</td>\n",
              "      <td>4</td>\n",
              "      <td>3.311203</td>\n",
              "      <td>0.000946</td>\n",
              "    </tr>\n",
              "    <tr>\n",
              "      <th>2048</th>\n",
              "      <td>0</td>\n",
              "      <td>1</td>\n",
              "      <td>3.227865</td>\n",
              "      <td>0.001267</td>\n",
              "    </tr>\n",
              "    <tr>\n",
              "      <th>17408</th>\n",
              "      <td>0</td>\n",
              "      <td>16</td>\n",
              "      <td>3.024120</td>\n",
              "      <td>0.002525</td>\n",
              "    </tr>\n",
              "    <tr>\n",
              "      <th>14336</th>\n",
              "      <td>0</td>\n",
              "      <td>13</td>\n",
              "      <td>2.903111</td>\n",
              "      <td>0.003735</td>\n",
              "    </tr>\n",
              "    <tr>\n",
              "      <th>6144</th>\n",
              "      <td>0</td>\n",
              "      <td>5</td>\n",
              "      <td>2.872598</td>\n",
              "      <td>0.004114</td>\n",
              "    </tr>\n",
              "    <tr>\n",
              "      <th>18443</th>\n",
              "      <td>11</td>\n",
              "      <td>17</td>\n",
              "      <td>2.682146</td>\n",
              "      <td>0.007375</td>\n",
              "    </tr>\n",
              "    <tr>\n",
              "      <th>8192</th>\n",
              "      <td>0</td>\n",
              "      <td>7</td>\n",
              "      <td>2.681570</td>\n",
              "      <td>0.007388</td>\n",
              "    </tr>\n",
              "    <tr>\n",
              "      <th>7168</th>\n",
              "      <td>0</td>\n",
              "      <td>6</td>\n",
              "      <td>2.624430</td>\n",
              "      <td>0.008746</td>\n",
              "    </tr>\n",
              "  </tbody>\n",
              "</table>\n",
              "</div>\n",
              "    <div class=\"colab-df-buttons\">\n",
              "\n",
              "  <div class=\"colab-df-container\">\n",
              "    <button class=\"colab-df-convert\" onclick=\"convertToInteractive('df-6941cb90-878d-401d-9bc3-bd42c5623956')\"\n",
              "            title=\"Convert this dataframe to an interactive table.\"\n",
              "            style=\"display:none;\">\n",
              "\n",
              "  <svg xmlns=\"http://www.w3.org/2000/svg\" height=\"24px\" viewBox=\"0 -960 960 960\">\n",
              "    <path d=\"M120-120v-720h720v720H120Zm60-500h600v-160H180v160Zm220 220h160v-160H400v160Zm0 220h160v-160H400v160ZM180-400h160v-160H180v160Zm440 0h160v-160H620v160ZM180-180h160v-160H180v160Zm440 0h160v-160H620v160Z\"/>\n",
              "  </svg>\n",
              "    </button>\n",
              "\n",
              "  <style>\n",
              "    .colab-df-container {\n",
              "      display:flex;\n",
              "      gap: 12px;\n",
              "    }\n",
              "\n",
              "    .colab-df-convert {\n",
              "      background-color: #E8F0FE;\n",
              "      border: none;\n",
              "      border-radius: 50%;\n",
              "      cursor: pointer;\n",
              "      display: none;\n",
              "      fill: #1967D2;\n",
              "      height: 32px;\n",
              "      padding: 0 0 0 0;\n",
              "      width: 32px;\n",
              "    }\n",
              "\n",
              "    .colab-df-convert:hover {\n",
              "      background-color: #E2EBFA;\n",
              "      box-shadow: 0px 1px 2px rgba(60, 64, 67, 0.3), 0px 1px 3px 1px rgba(60, 64, 67, 0.15);\n",
              "      fill: #174EA6;\n",
              "    }\n",
              "\n",
              "    .colab-df-buttons div {\n",
              "      margin-bottom: 4px;\n",
              "    }\n",
              "\n",
              "    [theme=dark] .colab-df-convert {\n",
              "      background-color: #3B4455;\n",
              "      fill: #D2E3FC;\n",
              "    }\n",
              "\n",
              "    [theme=dark] .colab-df-convert:hover {\n",
              "      background-color: #434B5C;\n",
              "      box-shadow: 0px 1px 3px 1px rgba(0, 0, 0, 0.15);\n",
              "      filter: drop-shadow(0px 1px 2px rgba(0, 0, 0, 0.3));\n",
              "      fill: #FFFFFF;\n",
              "    }\n",
              "  </style>\n",
              "\n",
              "    <script>\n",
              "      const buttonEl =\n",
              "        document.querySelector('#df-6941cb90-878d-401d-9bc3-bd42c5623956 button.colab-df-convert');\n",
              "      buttonEl.style.display =\n",
              "        google.colab.kernel.accessAllowed ? 'block' : 'none';\n",
              "\n",
              "      async function convertToInteractive(key) {\n",
              "        const element = document.querySelector('#df-6941cb90-878d-401d-9bc3-bd42c5623956');\n",
              "        const dataTable =\n",
              "          await google.colab.kernel.invokeFunction('convertToInteractive',\n",
              "                                                    [key], {});\n",
              "        if (!dataTable) return;\n",
              "\n",
              "        const docLinkHtml = 'Like what you see? Visit the ' +\n",
              "          '<a target=\"_blank\" href=https://colab.research.google.com/notebooks/data_table.ipynb>data table notebook</a>'\n",
              "          + ' to learn more about interactive tables.';\n",
              "        element.innerHTML = '';\n",
              "        dataTable['output_type'] = 'display_data';\n",
              "        await google.colab.output.renderOutput(dataTable, element);\n",
              "        const docLink = document.createElement('div');\n",
              "        docLink.innerHTML = docLinkHtml;\n",
              "        element.appendChild(docLink);\n",
              "      }\n",
              "    </script>\n",
              "  </div>\n",
              "\n",
              "\n",
              "<div id=\"df-6040bcdd-7b7c-4b56-bbc5-3425a1f1c484\">\n",
              "  <button class=\"colab-df-quickchart\" onclick=\"quickchart('df-6040bcdd-7b7c-4b56-bbc5-3425a1f1c484')\"\n",
              "            title=\"Suggest charts\"\n",
              "            style=\"display:none;\">\n",
              "\n",
              "<svg xmlns=\"http://www.w3.org/2000/svg\" height=\"24px\"viewBox=\"0 0 24 24\"\n",
              "     width=\"24px\">\n",
              "    <g>\n",
              "        <path d=\"M19 3H5c-1.1 0-2 .9-2 2v14c0 1.1.9 2 2 2h14c1.1 0 2-.9 2-2V5c0-1.1-.9-2-2-2zM9 17H7v-7h2v7zm4 0h-2V7h2v10zm4 0h-2v-4h2v4z\"/>\n",
              "    </g>\n",
              "</svg>\n",
              "  </button>\n",
              "\n",
              "<style>\n",
              "  .colab-df-quickchart {\n",
              "      --bg-color: #E8F0FE;\n",
              "      --fill-color: #1967D2;\n",
              "      --hover-bg-color: #E2EBFA;\n",
              "      --hover-fill-color: #174EA6;\n",
              "      --disabled-fill-color: #AAA;\n",
              "      --disabled-bg-color: #DDD;\n",
              "  }\n",
              "\n",
              "  [theme=dark] .colab-df-quickchart {\n",
              "      --bg-color: #3B4455;\n",
              "      --fill-color: #D2E3FC;\n",
              "      --hover-bg-color: #434B5C;\n",
              "      --hover-fill-color: #FFFFFF;\n",
              "      --disabled-bg-color: #3B4455;\n",
              "      --disabled-fill-color: #666;\n",
              "  }\n",
              "\n",
              "  .colab-df-quickchart {\n",
              "    background-color: var(--bg-color);\n",
              "    border: none;\n",
              "    border-radius: 50%;\n",
              "    cursor: pointer;\n",
              "    display: none;\n",
              "    fill: var(--fill-color);\n",
              "    height: 32px;\n",
              "    padding: 0;\n",
              "    width: 32px;\n",
              "  }\n",
              "\n",
              "  .colab-df-quickchart:hover {\n",
              "    background-color: var(--hover-bg-color);\n",
              "    box-shadow: 0 1px 2px rgba(60, 64, 67, 0.3), 0 1px 3px 1px rgba(60, 64, 67, 0.15);\n",
              "    fill: var(--button-hover-fill-color);\n",
              "  }\n",
              "\n",
              "  .colab-df-quickchart-complete:disabled,\n",
              "  .colab-df-quickchart-complete:disabled:hover {\n",
              "    background-color: var(--disabled-bg-color);\n",
              "    fill: var(--disabled-fill-color);\n",
              "    box-shadow: none;\n",
              "  }\n",
              "\n",
              "  .colab-df-spinner {\n",
              "    border: 2px solid var(--fill-color);\n",
              "    border-color: transparent;\n",
              "    border-bottom-color: var(--fill-color);\n",
              "    animation:\n",
              "      spin 1s steps(1) infinite;\n",
              "  }\n",
              "\n",
              "  @keyframes spin {\n",
              "    0% {\n",
              "      border-color: transparent;\n",
              "      border-bottom-color: var(--fill-color);\n",
              "      border-left-color: var(--fill-color);\n",
              "    }\n",
              "    20% {\n",
              "      border-color: transparent;\n",
              "      border-left-color: var(--fill-color);\n",
              "      border-top-color: var(--fill-color);\n",
              "    }\n",
              "    30% {\n",
              "      border-color: transparent;\n",
              "      border-left-color: var(--fill-color);\n",
              "      border-top-color: var(--fill-color);\n",
              "      border-right-color: var(--fill-color);\n",
              "    }\n",
              "    40% {\n",
              "      border-color: transparent;\n",
              "      border-right-color: var(--fill-color);\n",
              "      border-top-color: var(--fill-color);\n",
              "    }\n",
              "    60% {\n",
              "      border-color: transparent;\n",
              "      border-right-color: var(--fill-color);\n",
              "    }\n",
              "    80% {\n",
              "      border-color: transparent;\n",
              "      border-right-color: var(--fill-color);\n",
              "      border-bottom-color: var(--fill-color);\n",
              "    }\n",
              "    90% {\n",
              "      border-color: transparent;\n",
              "      border-bottom-color: var(--fill-color);\n",
              "    }\n",
              "  }\n",
              "</style>\n",
              "\n",
              "  <script>\n",
              "    async function quickchart(key) {\n",
              "      const quickchartButtonEl =\n",
              "        document.querySelector('#' + key + ' button');\n",
              "      quickchartButtonEl.disabled = true;  // To prevent multiple clicks.\n",
              "      quickchartButtonEl.classList.add('colab-df-spinner');\n",
              "      try {\n",
              "        const charts = await google.colab.kernel.invokeFunction(\n",
              "            'suggestCharts', [key], {});\n",
              "      } catch (error) {\n",
              "        console.error('Error during call to suggestCharts:', error);\n",
              "      }\n",
              "      quickchartButtonEl.classList.remove('colab-df-spinner');\n",
              "      quickchartButtonEl.classList.add('colab-df-quickchart-complete');\n",
              "    }\n",
              "    (() => {\n",
              "      let quickchartButtonEl =\n",
              "        document.querySelector('#df-6040bcdd-7b7c-4b56-bbc5-3425a1f1c484 button');\n",
              "      quickchartButtonEl.style.display =\n",
              "        google.colab.kernel.accessAllowed ? 'block' : 'none';\n",
              "    })();\n",
              "  </script>\n",
              "</div>\n",
              "\n",
              "    </div>\n",
              "  </div>\n"
            ],
            "application/vnd.google.colaboratory.intrinsic+json": {
              "type": "dataframe",
              "repr_error": "0"
            }
          },
          "metadata": {},
          "execution_count": 12
        }
      ],
      "source": [
        "def reduce_significance(hash_table, values):\n",
        "    ## Your code goes here.\n",
        "    ## Create a data framreturn the results of the\n",
        "    ## the reduce process. The results are grouped by the first\n",
        "    ## index i.\n",
        "    test_results = pd.DataFrame(index=hash_table.index, columns=['i','j','t_statistic','p_value'])\n",
        "\n",
        "    ## We do not need a shuffle here, since we simple want to work with the possible\n",
        "    ## combinations of i and j, if i not equal to j.\n",
        "    ncolumns = values.shape[1]\n",
        "    for i,j in combinations(range(ncolumns), 2):\n",
        "\n",
        "    ## Given the i,j pairs we need to compute the t-statistic and the p-value.\n",
        "    ## This is the reduce step, since for each i,j pair there is only\n",
        "    ## a t-statistic and a p-value.\n",
        "    ## Put your code below.\n",
        "        t, p = ttest_ind(values[:,j], values[:,i])\n",
        "        hash = hash_function(i,j,1024,32)\n",
        "        hash_table.loc[hash,'t_statistic'] = t\n",
        "        hash_table.loc[hash,'p_value'] = p\n",
        "\n",
        "    return hash_table.sort_values(by='p_value')\n",
        "\n",
        "\n",
        "test_stats = reduce_significance(hash_table, normal_vars)\n",
        "test_stats.dropna(subset=['i']).head(10)"
      ]
    },
    {
      "cell_type": "markdown",
      "metadata": {
        "id": "MIUkBLXBpl6W"
      },
      "source": [
        "> 9. In the cell below, create a filter for pair test cases which are significant and save these cases in a data frame.\n",
        "> 10. Print the number (len) of significant results.\n",
        "> 11. Print the rows with the significant test results."
      ]
    },
    {
      "cell_type": "code",
      "execution_count": 14,
      "metadata": {
        "id": "IahopQSppl6W",
        "outputId": "c20cecef-984a-4b69-e419-7ac1b7e9e5d1",
        "colab": {
          "base_uri": "https://localhost:8080/",
          "height": 757
        }
      },
      "outputs": [
        {
          "output_type": "stream",
          "name": "stdout",
          "text": [
            "Significant Tests: 22\n"
          ]
        },
        {
          "output_type": "execute_result",
          "data": {
            "text/plain": [
              "        i   j  t_statistic   p_value\n",
              "18432   0  17     3.992565  0.000068\n",
              "9216    0   8     3.705426  0.000217\n",
              "5120    0   4     3.311203  0.000946\n",
              "2048    0   1     3.227865  0.001267\n",
              "17408   0  16     3.024120  0.002525\n",
              "14336   0  13     2.903111  0.003735\n",
              "6144    0   5     2.872598  0.004114\n",
              "18443  11  17     2.682146  0.007375\n",
              "8192    0   7     2.681570  0.007388\n",
              "7168    0   6     2.624430  0.008746\n",
              "11264   0  10     2.462400  0.013885\n",
              "12296   8  11    -2.422580  0.015499\n",
              "4096    0   3     2.321463  0.020362\n",
              "15360   0  14     2.294894  0.021842\n",
              "16384   0  15     2.291186  0.022056\n",
              "20480   0  19     2.279797  0.022725\n",
              "18441   9  17     2.225359  0.026168\n",
              "3072    0   2     2.212194  0.027066\n",
              "19456   0  18     2.156647  0.031152\n",
              "13312   0  12     2.031263  0.042360\n",
              "12292   4  11    -2.017791  0.043747\n",
              "10248   8   9    -1.980137  0.047825"
            ],
            "text/html": [
              "\n",
              "  <div id=\"df-4ac9d898-6d34-48bd-b7b6-08a3ee632ce4\" class=\"colab-df-container\">\n",
              "    <div>\n",
              "<style scoped>\n",
              "    .dataframe tbody tr th:only-of-type {\n",
              "        vertical-align: middle;\n",
              "    }\n",
              "\n",
              "    .dataframe tbody tr th {\n",
              "        vertical-align: top;\n",
              "    }\n",
              "\n",
              "    .dataframe thead th {\n",
              "        text-align: right;\n",
              "    }\n",
              "</style>\n",
              "<table border=\"1\" class=\"dataframe\">\n",
              "  <thead>\n",
              "    <tr style=\"text-align: right;\">\n",
              "      <th></th>\n",
              "      <th>i</th>\n",
              "      <th>j</th>\n",
              "      <th>t_statistic</th>\n",
              "      <th>p_value</th>\n",
              "    </tr>\n",
              "  </thead>\n",
              "  <tbody>\n",
              "    <tr>\n",
              "      <th>18432</th>\n",
              "      <td>0</td>\n",
              "      <td>17</td>\n",
              "      <td>3.992565</td>\n",
              "      <td>0.000068</td>\n",
              "    </tr>\n",
              "    <tr>\n",
              "      <th>9216</th>\n",
              "      <td>0</td>\n",
              "      <td>8</td>\n",
              "      <td>3.705426</td>\n",
              "      <td>0.000217</td>\n",
              "    </tr>\n",
              "    <tr>\n",
              "      <th>5120</th>\n",
              "      <td>0</td>\n",
              "      <td>4</td>\n",
              "      <td>3.311203</td>\n",
              "      <td>0.000946</td>\n",
              "    </tr>\n",
              "    <tr>\n",
              "      <th>2048</th>\n",
              "      <td>0</td>\n",
              "      <td>1</td>\n",
              "      <td>3.227865</td>\n",
              "      <td>0.001267</td>\n",
              "    </tr>\n",
              "    <tr>\n",
              "      <th>17408</th>\n",
              "      <td>0</td>\n",
              "      <td>16</td>\n",
              "      <td>3.024120</td>\n",
              "      <td>0.002525</td>\n",
              "    </tr>\n",
              "    <tr>\n",
              "      <th>14336</th>\n",
              "      <td>0</td>\n",
              "      <td>13</td>\n",
              "      <td>2.903111</td>\n",
              "      <td>0.003735</td>\n",
              "    </tr>\n",
              "    <tr>\n",
              "      <th>6144</th>\n",
              "      <td>0</td>\n",
              "      <td>5</td>\n",
              "      <td>2.872598</td>\n",
              "      <td>0.004114</td>\n",
              "    </tr>\n",
              "    <tr>\n",
              "      <th>18443</th>\n",
              "      <td>11</td>\n",
              "      <td>17</td>\n",
              "      <td>2.682146</td>\n",
              "      <td>0.007375</td>\n",
              "    </tr>\n",
              "    <tr>\n",
              "      <th>8192</th>\n",
              "      <td>0</td>\n",
              "      <td>7</td>\n",
              "      <td>2.681570</td>\n",
              "      <td>0.007388</td>\n",
              "    </tr>\n",
              "    <tr>\n",
              "      <th>7168</th>\n",
              "      <td>0</td>\n",
              "      <td>6</td>\n",
              "      <td>2.624430</td>\n",
              "      <td>0.008746</td>\n",
              "    </tr>\n",
              "    <tr>\n",
              "      <th>11264</th>\n",
              "      <td>0</td>\n",
              "      <td>10</td>\n",
              "      <td>2.462400</td>\n",
              "      <td>0.013885</td>\n",
              "    </tr>\n",
              "    <tr>\n",
              "      <th>12296</th>\n",
              "      <td>8</td>\n",
              "      <td>11</td>\n",
              "      <td>-2.422580</td>\n",
              "      <td>0.015499</td>\n",
              "    </tr>\n",
              "    <tr>\n",
              "      <th>4096</th>\n",
              "      <td>0</td>\n",
              "      <td>3</td>\n",
              "      <td>2.321463</td>\n",
              "      <td>0.020362</td>\n",
              "    </tr>\n",
              "    <tr>\n",
              "      <th>15360</th>\n",
              "      <td>0</td>\n",
              "      <td>14</td>\n",
              "      <td>2.294894</td>\n",
              "      <td>0.021842</td>\n",
              "    </tr>\n",
              "    <tr>\n",
              "      <th>16384</th>\n",
              "      <td>0</td>\n",
              "      <td>15</td>\n",
              "      <td>2.291186</td>\n",
              "      <td>0.022056</td>\n",
              "    </tr>\n",
              "    <tr>\n",
              "      <th>20480</th>\n",
              "      <td>0</td>\n",
              "      <td>19</td>\n",
              "      <td>2.279797</td>\n",
              "      <td>0.022725</td>\n",
              "    </tr>\n",
              "    <tr>\n",
              "      <th>18441</th>\n",
              "      <td>9</td>\n",
              "      <td>17</td>\n",
              "      <td>2.225359</td>\n",
              "      <td>0.026168</td>\n",
              "    </tr>\n",
              "    <tr>\n",
              "      <th>3072</th>\n",
              "      <td>0</td>\n",
              "      <td>2</td>\n",
              "      <td>2.212194</td>\n",
              "      <td>0.027066</td>\n",
              "    </tr>\n",
              "    <tr>\n",
              "      <th>19456</th>\n",
              "      <td>0</td>\n",
              "      <td>18</td>\n",
              "      <td>2.156647</td>\n",
              "      <td>0.031152</td>\n",
              "    </tr>\n",
              "    <tr>\n",
              "      <th>13312</th>\n",
              "      <td>0</td>\n",
              "      <td>12</td>\n",
              "      <td>2.031263</td>\n",
              "      <td>0.042360</td>\n",
              "    </tr>\n",
              "    <tr>\n",
              "      <th>12292</th>\n",
              "      <td>4</td>\n",
              "      <td>11</td>\n",
              "      <td>-2.017791</td>\n",
              "      <td>0.043747</td>\n",
              "    </tr>\n",
              "    <tr>\n",
              "      <th>10248</th>\n",
              "      <td>8</td>\n",
              "      <td>9</td>\n",
              "      <td>-1.980137</td>\n",
              "      <td>0.047825</td>\n",
              "    </tr>\n",
              "  </tbody>\n",
              "</table>\n",
              "</div>\n",
              "    <div class=\"colab-df-buttons\">\n",
              "\n",
              "  <div class=\"colab-df-container\">\n",
              "    <button class=\"colab-df-convert\" onclick=\"convertToInteractive('df-4ac9d898-6d34-48bd-b7b6-08a3ee632ce4')\"\n",
              "            title=\"Convert this dataframe to an interactive table.\"\n",
              "            style=\"display:none;\">\n",
              "\n",
              "  <svg xmlns=\"http://www.w3.org/2000/svg\" height=\"24px\" viewBox=\"0 -960 960 960\">\n",
              "    <path d=\"M120-120v-720h720v720H120Zm60-500h600v-160H180v160Zm220 220h160v-160H400v160Zm0 220h160v-160H400v160ZM180-400h160v-160H180v160Zm440 0h160v-160H620v160ZM180-180h160v-160H180v160Zm440 0h160v-160H620v160Z\"/>\n",
              "  </svg>\n",
              "    </button>\n",
              "\n",
              "  <style>\n",
              "    .colab-df-container {\n",
              "      display:flex;\n",
              "      gap: 12px;\n",
              "    }\n",
              "\n",
              "    .colab-df-convert {\n",
              "      background-color: #E8F0FE;\n",
              "      border: none;\n",
              "      border-radius: 50%;\n",
              "      cursor: pointer;\n",
              "      display: none;\n",
              "      fill: #1967D2;\n",
              "      height: 32px;\n",
              "      padding: 0 0 0 0;\n",
              "      width: 32px;\n",
              "    }\n",
              "\n",
              "    .colab-df-convert:hover {\n",
              "      background-color: #E2EBFA;\n",
              "      box-shadow: 0px 1px 2px rgba(60, 64, 67, 0.3), 0px 1px 3px 1px rgba(60, 64, 67, 0.15);\n",
              "      fill: #174EA6;\n",
              "    }\n",
              "\n",
              "    .colab-df-buttons div {\n",
              "      margin-bottom: 4px;\n",
              "    }\n",
              "\n",
              "    [theme=dark] .colab-df-convert {\n",
              "      background-color: #3B4455;\n",
              "      fill: #D2E3FC;\n",
              "    }\n",
              "\n",
              "    [theme=dark] .colab-df-convert:hover {\n",
              "      background-color: #434B5C;\n",
              "      box-shadow: 0px 1px 3px 1px rgba(0, 0, 0, 0.15);\n",
              "      filter: drop-shadow(0px 1px 2px rgba(0, 0, 0, 0.3));\n",
              "      fill: #FFFFFF;\n",
              "    }\n",
              "  </style>\n",
              "\n",
              "    <script>\n",
              "      const buttonEl =\n",
              "        document.querySelector('#df-4ac9d898-6d34-48bd-b7b6-08a3ee632ce4 button.colab-df-convert');\n",
              "      buttonEl.style.display =\n",
              "        google.colab.kernel.accessAllowed ? 'block' : 'none';\n",
              "\n",
              "      async function convertToInteractive(key) {\n",
              "        const element = document.querySelector('#df-4ac9d898-6d34-48bd-b7b6-08a3ee632ce4');\n",
              "        const dataTable =\n",
              "          await google.colab.kernel.invokeFunction('convertToInteractive',\n",
              "                                                    [key], {});\n",
              "        if (!dataTable) return;\n",
              "\n",
              "        const docLinkHtml = 'Like what you see? Visit the ' +\n",
              "          '<a target=\"_blank\" href=https://colab.research.google.com/notebooks/data_table.ipynb>data table notebook</a>'\n",
              "          + ' to learn more about interactive tables.';\n",
              "        element.innerHTML = '';\n",
              "        dataTable['output_type'] = 'display_data';\n",
              "        await google.colab.output.renderOutput(dataTable, element);\n",
              "        const docLink = document.createElement('div');\n",
              "        docLink.innerHTML = docLinkHtml;\n",
              "        element.appendChild(docLink);\n",
              "      }\n",
              "    </script>\n",
              "  </div>\n",
              "\n",
              "\n",
              "<div id=\"df-10c21cdb-e894-4ef6-8c50-5f31ae9a90e9\">\n",
              "  <button class=\"colab-df-quickchart\" onclick=\"quickchart('df-10c21cdb-e894-4ef6-8c50-5f31ae9a90e9')\"\n",
              "            title=\"Suggest charts\"\n",
              "            style=\"display:none;\">\n",
              "\n",
              "<svg xmlns=\"http://www.w3.org/2000/svg\" height=\"24px\"viewBox=\"0 0 24 24\"\n",
              "     width=\"24px\">\n",
              "    <g>\n",
              "        <path d=\"M19 3H5c-1.1 0-2 .9-2 2v14c0 1.1.9 2 2 2h14c1.1 0 2-.9 2-2V5c0-1.1-.9-2-2-2zM9 17H7v-7h2v7zm4 0h-2V7h2v10zm4 0h-2v-4h2v4z\"/>\n",
              "    </g>\n",
              "</svg>\n",
              "  </button>\n",
              "\n",
              "<style>\n",
              "  .colab-df-quickchart {\n",
              "      --bg-color: #E8F0FE;\n",
              "      --fill-color: #1967D2;\n",
              "      --hover-bg-color: #E2EBFA;\n",
              "      --hover-fill-color: #174EA6;\n",
              "      --disabled-fill-color: #AAA;\n",
              "      --disabled-bg-color: #DDD;\n",
              "  }\n",
              "\n",
              "  [theme=dark] .colab-df-quickchart {\n",
              "      --bg-color: #3B4455;\n",
              "      --fill-color: #D2E3FC;\n",
              "      --hover-bg-color: #434B5C;\n",
              "      --hover-fill-color: #FFFFFF;\n",
              "      --disabled-bg-color: #3B4455;\n",
              "      --disabled-fill-color: #666;\n",
              "  }\n",
              "\n",
              "  .colab-df-quickchart {\n",
              "    background-color: var(--bg-color);\n",
              "    border: none;\n",
              "    border-radius: 50%;\n",
              "    cursor: pointer;\n",
              "    display: none;\n",
              "    fill: var(--fill-color);\n",
              "    height: 32px;\n",
              "    padding: 0;\n",
              "    width: 32px;\n",
              "  }\n",
              "\n",
              "  .colab-df-quickchart:hover {\n",
              "    background-color: var(--hover-bg-color);\n",
              "    box-shadow: 0 1px 2px rgba(60, 64, 67, 0.3), 0 1px 3px 1px rgba(60, 64, 67, 0.15);\n",
              "    fill: var(--button-hover-fill-color);\n",
              "  }\n",
              "\n",
              "  .colab-df-quickchart-complete:disabled,\n",
              "  .colab-df-quickchart-complete:disabled:hover {\n",
              "    background-color: var(--disabled-bg-color);\n",
              "    fill: var(--disabled-fill-color);\n",
              "    box-shadow: none;\n",
              "  }\n",
              "\n",
              "  .colab-df-spinner {\n",
              "    border: 2px solid var(--fill-color);\n",
              "    border-color: transparent;\n",
              "    border-bottom-color: var(--fill-color);\n",
              "    animation:\n",
              "      spin 1s steps(1) infinite;\n",
              "  }\n",
              "\n",
              "  @keyframes spin {\n",
              "    0% {\n",
              "      border-color: transparent;\n",
              "      border-bottom-color: var(--fill-color);\n",
              "      border-left-color: var(--fill-color);\n",
              "    }\n",
              "    20% {\n",
              "      border-color: transparent;\n",
              "      border-left-color: var(--fill-color);\n",
              "      border-top-color: var(--fill-color);\n",
              "    }\n",
              "    30% {\n",
              "      border-color: transparent;\n",
              "      border-left-color: var(--fill-color);\n",
              "      border-top-color: var(--fill-color);\n",
              "      border-right-color: var(--fill-color);\n",
              "    }\n",
              "    40% {\n",
              "      border-color: transparent;\n",
              "      border-right-color: var(--fill-color);\n",
              "      border-top-color: var(--fill-color);\n",
              "    }\n",
              "    60% {\n",
              "      border-color: transparent;\n",
              "      border-right-color: var(--fill-color);\n",
              "    }\n",
              "    80% {\n",
              "      border-color: transparent;\n",
              "      border-right-color: var(--fill-color);\n",
              "      border-bottom-color: var(--fill-color);\n",
              "    }\n",
              "    90% {\n",
              "      border-color: transparent;\n",
              "      border-bottom-color: var(--fill-color);\n",
              "    }\n",
              "  }\n",
              "</style>\n",
              "\n",
              "  <script>\n",
              "    async function quickchart(key) {\n",
              "      const quickchartButtonEl =\n",
              "        document.querySelector('#' + key + ' button');\n",
              "      quickchartButtonEl.disabled = true;  // To prevent multiple clicks.\n",
              "      quickchartButtonEl.classList.add('colab-df-spinner');\n",
              "      try {\n",
              "        const charts = await google.colab.kernel.invokeFunction(\n",
              "            'suggestCharts', [key], {});\n",
              "      } catch (error) {\n",
              "        console.error('Error during call to suggestCharts:', error);\n",
              "      }\n",
              "      quickchartButtonEl.classList.remove('colab-df-spinner');\n",
              "      quickchartButtonEl.classList.add('colab-df-quickchart-complete');\n",
              "    }\n",
              "    (() => {\n",
              "      let quickchartButtonEl =\n",
              "        document.querySelector('#df-10c21cdb-e894-4ef6-8c50-5f31ae9a90e9 button');\n",
              "      quickchartButtonEl.style.display =\n",
              "        google.colab.kernel.accessAllowed ? 'block' : 'none';\n",
              "    })();\n",
              "  </script>\n",
              "</div>\n",
              "\n",
              "  <div id=\"id_e345feb7-2e75-4f72-b4ae-207d38075370\">\n",
              "    <style>\n",
              "      .colab-df-generate {\n",
              "        background-color: #E8F0FE;\n",
              "        border: none;\n",
              "        border-radius: 50%;\n",
              "        cursor: pointer;\n",
              "        display: none;\n",
              "        fill: #1967D2;\n",
              "        height: 32px;\n",
              "        padding: 0 0 0 0;\n",
              "        width: 32px;\n",
              "      }\n",
              "\n",
              "      .colab-df-generate:hover {\n",
              "        background-color: #E2EBFA;\n",
              "        box-shadow: 0px 1px 2px rgba(60, 64, 67, 0.3), 0px 1px 3px 1px rgba(60, 64, 67, 0.15);\n",
              "        fill: #174EA6;\n",
              "      }\n",
              "\n",
              "      [theme=dark] .colab-df-generate {\n",
              "        background-color: #3B4455;\n",
              "        fill: #D2E3FC;\n",
              "      }\n",
              "\n",
              "      [theme=dark] .colab-df-generate:hover {\n",
              "        background-color: #434B5C;\n",
              "        box-shadow: 0px 1px 3px 1px rgba(0, 0, 0, 0.15);\n",
              "        filter: drop-shadow(0px 1px 2px rgba(0, 0, 0, 0.3));\n",
              "        fill: #FFFFFF;\n",
              "      }\n",
              "    </style>\n",
              "    <button class=\"colab-df-generate\" onclick=\"generateWithVariable('significant_tests')\"\n",
              "            title=\"Generate code using this dataframe.\"\n",
              "            style=\"display:none;\">\n",
              "\n",
              "  <svg xmlns=\"http://www.w3.org/2000/svg\" height=\"24px\"viewBox=\"0 0 24 24\"\n",
              "       width=\"24px\">\n",
              "    <path d=\"M7,19H8.4L18.45,9,17,7.55,7,17.6ZM5,21V16.75L18.45,3.32a2,2,0,0,1,2.83,0l1.4,1.43a1.91,1.91,0,0,1,.58,1.4,1.91,1.91,0,0,1-.58,1.4L9.25,21ZM18.45,9,17,7.55Zm-12,3A5.31,5.31,0,0,0,4.9,8.1,5.31,5.31,0,0,0,1,6.5,5.31,5.31,0,0,0,4.9,4.9,5.31,5.31,0,0,0,6.5,1,5.31,5.31,0,0,0,8.1,4.9,5.31,5.31,0,0,0,12,6.5,5.46,5.46,0,0,0,6.5,12Z\"/>\n",
              "  </svg>\n",
              "    </button>\n",
              "    <script>\n",
              "      (() => {\n",
              "      const buttonEl =\n",
              "        document.querySelector('#id_e345feb7-2e75-4f72-b4ae-207d38075370 button.colab-df-generate');\n",
              "      buttonEl.style.display =\n",
              "        google.colab.kernel.accessAllowed ? 'block' : 'none';\n",
              "\n",
              "      buttonEl.onclick = () => {\n",
              "        google.colab.notebook.generateWithVariable('significant_tests');\n",
              "      }\n",
              "      })();\n",
              "    </script>\n",
              "  </div>\n",
              "\n",
              "    </div>\n",
              "  </div>\n"
            ],
            "application/vnd.google.colaboratory.intrinsic+json": {
              "type": "dataframe",
              "variable_name": "significant_tests",
              "repr_error": "0"
            }
          },
          "metadata": {},
          "execution_count": 14
        }
      ],
      "source": [
        "significance_level = 0.05\n",
        "## Put your code below.\n",
        "significant_tests = test_stats[test_stats.iloc[:,3] < significance_level]\n",
        "print(\"Significant Tests:\",len(significant_tests))\n",
        "significant_tests.head()\n"
      ]
    },
    {
      "cell_type": "code",
      "source": [
        "np.bincount(pd.concat([significant_tests.i, significant_tests.j]))\n"
      ],
      "metadata": {
        "id": "MIJzxH2KNvdp",
        "outputId": "ce5db067-2b07-4e9c-fc66-3d0ddd16f05f",
        "colab": {
          "base_uri": "https://localhost:8080/"
        }
      },
      "execution_count": 27,
      "outputs": [
        {
          "output_type": "execute_result",
          "data": {
            "text/plain": [
              "array([17,  1,  1,  1,  2,  1,  1,  1,  3,  2,  1,  3,  1,  1,  1,  1,  1,\n",
              "        3,  1,  1])"
            ]
          },
          "metadata": {},
          "execution_count": 27
        }
      ]
    },
    {
      "cell_type": "markdown",
      "metadata": {
        "id": "OHK_O8vTpl6W"
      },
      "source": [
        "> Notice the large number of apparently 'significant' test results. Answer the following questions:  \n",
        "> 1. Is the number of false positive cases approximately what you expected?    \n",
        "> 2. Examine which of the iid Normal vectors contribute to the false positive results. Are there vectors which contribute multiple times?   \n",
        "> **End of exercise.**"
      ]
    },
    {
      "cell_type": "markdown",
      "metadata": {
        "id": "8tja64Cwpl6W"
      },
      "source": [
        ">  **Answers:**   \n",
        "> 1.  Twenty-two seems like a small number, but taking into account the data set, that's 11.6% false positives, and their t statistics are fairly large in many cases. This is more than I would have expected, especially with the size of each column in the dataset.      \n",
        "> 2. There are a few vectors that contribute multiple times, but vector zero is much higher than the others. I'd have to assume this one is an outlier that, if removed, would normalize our results considerably.   "
      ]
    },
    {
      "cell_type": "markdown",
      "metadata": {
        "id": "EaEh9pwbpl6W"
      },
      "source": [
        "### Bonferroni correction  \n",
        "\n",
        "Several adjustments to the multiple comparisons problem have been proposed. Dunn published a method know as the **Bonferroni correction** in 1961. The Bonferroni correction is a widely used method to reduce the false positive rate of hypothesis tests.  The adjustment is simple:\n",
        "$$\\alpha_b = \\frac{\\alpha}{m}\\\\\n",
        "with\\\\\n",
        "m =\\ number\\ of\\ groups$$\n",
        "\n",
        "Can the Bonferroni correction help? Yes, by greatly increasing the confidence level required for a statistically significant result. The problem with the Bonferroni correction is the reduction in power as the  grows smaller. For big data problems with large numbers of groups, this issue can be especially serious. In fact, the Bonferroni correction can often lead to significant numbers of missed discoveries, or Type II errors.\n",
        "\n",
        "> **Exercise 1-4:** You will now apply the Bonferroni correction to determining the significance of the p-values of the pair-wise t-tests. Do the following:\n",
        "> 1. Compute the Bonferroni significance level.\n",
        "> 2. Apply this cutoff to the p-values of all of the cases.\n",
        "> 3. Print the number of false discoveries, or Type I errors.\n",
        "> Execute your code and examine the results"
      ]
    },
    {
      "cell_type": "code",
      "execution_count": 28,
      "metadata": {
        "id": "Lp4aKcCCpl6X",
        "outputId": "8f3372b4-df59-4a7e-ab83-97da73eda109",
        "colab": {
          "base_uri": "https://localhost:8080/"
        }
      },
      "outputs": [
        {
          "output_type": "execute_result",
          "data": {
            "text/plain": [
              "2"
            ]
          },
          "metadata": {},
          "execution_count": 28
        }
      ],
      "source": [
        "## Your code goes below\n",
        "significance_bonferroni = significance_level/190.0\n",
        "significant_tests = test_stats[test_stats.iloc[:,3] < significance_bonferroni]\n",
        "len(significant_tests)"
      ]
    },
    {
      "cell_type": "markdown",
      "metadata": {
        "id": "g1wqL1Wgpl6X"
      },
      "source": [
        "> Does using the  Bonferroni correction reduce false significance tests, or even eliminate them?           "
      ]
    },
    {
      "cell_type": "markdown",
      "metadata": {
        "id": "1J8nZxOapl6X"
      },
      "source": [
        "> **Answer:**   The Bonferroni correction greatly reduced the number of false significance tests, reducing the count from 22 to two."
      ]
    },
    {
      "cell_type": "markdown",
      "metadata": {
        "id": "FDGO376mpl6X"
      },
      "source": [
        "> But, can we detect small effect with Bonferroni correction, as this method significantly reduces power of tests? Execute the code in the cell below, which compares a standard Normal to a Normal with a small mean (effect size), to find out."
      ]
    },
    {
      "cell_type": "code",
      "execution_count": 9,
      "metadata": {
        "id": "ZjMo_KJJpl6X",
        "outputId": "888787b1-c0ca-47e2-d70c-d1e49a387199",
        "colab": {
          "base_uri": "https://localhost:8080/"
        }
      },
      "outputs": [
        {
          "output_type": "stream",
          "name": "stdout",
          "text": [
            "0.0002631578947368421\n",
            "TtestResult(statistic=-2.495534881466432, pvalue=0.012656841327097457, df=1998.0)\n"
          ]
        }
      ],
      "source": [
        "nr.seed(567)\n",
        "print(significance_bonferroni)\n",
        "print(ttest_ind(normal_vars[:,0], nr.normal(loc = 0.01, size=1000)))"
      ]
    },
    {
      "cell_type": "markdown",
      "metadata": {
        "id": "yIX_Wkqfpl6X"
      },
      "source": [
        "> Provide a short answer to these questions:        \n",
        "> 1. Given the Bonferroni correction and this difference in means, would this result be considered significant or would it be a type II error, and why?    \n",
        "> 2. What does this result tell you about the downside of the Bonferroni correction as a FDR control method, in terms of finding significant results?      \n",
        "> **End of exercise.**"
      ]
    },
    {
      "cell_type": "markdown",
      "metadata": {
        "id": "8xVWV6D6pl6X"
      },
      "source": [
        "> **Answers:**      \n",
        "> 1. The result would not be significant since the p value is greater than he Bonferroni Significance, making it a type II error.\n",
        "> 2.     "
      ]
    },
    {
      "cell_type": "markdown",
      "metadata": {
        "id": "L9HXkwAipl6Y"
      },
      "source": [
        "## Imporved False Discovery Rate Control Methods\n",
        "\n",
        "We have seen the potential pitfalls of multiple hypothesis testing. Further, we have seen that a simple approach to **false discovery rate (FDR) control** is not effective. You will now apply more sophisticated FDR control methods.\n",
        "\n",
        "The specific problem we will explore is to determine which genes lead to expression of a certain disease. In this example, there are gene expression data for 97 patients. Some of these patients have ulcerative colitis, a condition believed not to be inheritable, and others have Crohn's disease, which is believed to be genetically inherited.    \n",
        "\n",
        "One approach to this problem is to perform hypothesis tests on the expression of the genes between patients with the two conditions. Since there are over 10,000 genes there is considerable chance for false discovery. Therefore, careful application of FDR control is required.\n",
        "\n",
        "To continue with the example, execute the code in the cell below to load the data and print the dimensionality of the data frame."
      ]
    },
    {
      "cell_type": "code",
      "execution_count": 10,
      "metadata": {
        "id": "Mubwp2oOpl6Y",
        "outputId": "bba809dc-da8a-4969-ec87-0564f733ee46",
        "colab": {
          "base_uri": "https://localhost:8080/",
          "height": 329
        }
      },
      "outputs": [
        {
          "output_type": "error",
          "ename": "FileNotFoundError",
          "evalue": "[Errno 2] No such file or directory: '../data/ColonDiseaseGeneData-Cleaned.csv'",
          "traceback": [
            "\u001b[0;31m---------------------------------------------------------------------------\u001b[0m",
            "\u001b[0;31mFileNotFoundError\u001b[0m                         Traceback (most recent call last)",
            "\u001b[0;32m<ipython-input-10-a4100ef6c70b>\u001b[0m in \u001b[0;36m<cell line: 1>\u001b[0;34m()\u001b[0m\n\u001b[0;32m----> 1\u001b[0;31m \u001b[0mgene_data\u001b[0m \u001b[0;34m=\u001b[0m \u001b[0mpd\u001b[0m\u001b[0;34m.\u001b[0m\u001b[0mread_csv\u001b[0m\u001b[0;34m(\u001b[0m\u001b[0;34m'../data/ColonDiseaseGeneData-Cleaned.csv'\u001b[0m\u001b[0;34m)\u001b[0m\u001b[0;34m\u001b[0m\u001b[0;34m\u001b[0m\u001b[0m\n\u001b[0m\u001b[1;32m      2\u001b[0m \u001b[0mprint\u001b[0m\u001b[0;34m(\u001b[0m\u001b[0mgene_data\u001b[0m\u001b[0;34m.\u001b[0m\u001b[0mshape\u001b[0m\u001b[0;34m)\u001b[0m\u001b[0;34m\u001b[0m\u001b[0;34m\u001b[0m\u001b[0m\n",
            "\u001b[0;32m/usr/local/lib/python3.10/dist-packages/pandas/io/parsers/readers.py\u001b[0m in \u001b[0;36mread_csv\u001b[0;34m(filepath_or_buffer, sep, delimiter, header, names, index_col, usecols, dtype, engine, converters, true_values, false_values, skipinitialspace, skiprows, skipfooter, nrows, na_values, keep_default_na, na_filter, verbose, skip_blank_lines, parse_dates, infer_datetime_format, keep_date_col, date_parser, date_format, dayfirst, cache_dates, iterator, chunksize, compression, thousands, decimal, lineterminator, quotechar, quoting, doublequote, escapechar, comment, encoding, encoding_errors, dialect, on_bad_lines, delim_whitespace, low_memory, memory_map, float_precision, storage_options, dtype_backend)\u001b[0m\n\u001b[1;32m    910\u001b[0m     \u001b[0mkwds\u001b[0m\u001b[0;34m.\u001b[0m\u001b[0mupdate\u001b[0m\u001b[0;34m(\u001b[0m\u001b[0mkwds_defaults\u001b[0m\u001b[0;34m)\u001b[0m\u001b[0;34m\u001b[0m\u001b[0;34m\u001b[0m\u001b[0m\n\u001b[1;32m    911\u001b[0m \u001b[0;34m\u001b[0m\u001b[0m\n\u001b[0;32m--> 912\u001b[0;31m     \u001b[0;32mreturn\u001b[0m \u001b[0m_read\u001b[0m\u001b[0;34m(\u001b[0m\u001b[0mfilepath_or_buffer\u001b[0m\u001b[0;34m,\u001b[0m \u001b[0mkwds\u001b[0m\u001b[0;34m)\u001b[0m\u001b[0;34m\u001b[0m\u001b[0;34m\u001b[0m\u001b[0m\n\u001b[0m\u001b[1;32m    913\u001b[0m \u001b[0;34m\u001b[0m\u001b[0m\n\u001b[1;32m    914\u001b[0m \u001b[0;34m\u001b[0m\u001b[0m\n",
            "\u001b[0;32m/usr/local/lib/python3.10/dist-packages/pandas/io/parsers/readers.py\u001b[0m in \u001b[0;36m_read\u001b[0;34m(filepath_or_buffer, kwds)\u001b[0m\n\u001b[1;32m    575\u001b[0m \u001b[0;34m\u001b[0m\u001b[0m\n\u001b[1;32m    576\u001b[0m     \u001b[0;31m# Create the parser.\u001b[0m\u001b[0;34m\u001b[0m\u001b[0;34m\u001b[0m\u001b[0m\n\u001b[0;32m--> 577\u001b[0;31m     \u001b[0mparser\u001b[0m \u001b[0;34m=\u001b[0m \u001b[0mTextFileReader\u001b[0m\u001b[0;34m(\u001b[0m\u001b[0mfilepath_or_buffer\u001b[0m\u001b[0;34m,\u001b[0m \u001b[0;34m**\u001b[0m\u001b[0mkwds\u001b[0m\u001b[0;34m)\u001b[0m\u001b[0;34m\u001b[0m\u001b[0;34m\u001b[0m\u001b[0m\n\u001b[0m\u001b[1;32m    578\u001b[0m \u001b[0;34m\u001b[0m\u001b[0m\n\u001b[1;32m    579\u001b[0m     \u001b[0;32mif\u001b[0m \u001b[0mchunksize\u001b[0m \u001b[0;32mor\u001b[0m \u001b[0miterator\u001b[0m\u001b[0;34m:\u001b[0m\u001b[0;34m\u001b[0m\u001b[0;34m\u001b[0m\u001b[0m\n",
            "\u001b[0;32m/usr/local/lib/python3.10/dist-packages/pandas/io/parsers/readers.py\u001b[0m in \u001b[0;36m__init__\u001b[0;34m(self, f, engine, **kwds)\u001b[0m\n\u001b[1;32m   1405\u001b[0m \u001b[0;34m\u001b[0m\u001b[0m\n\u001b[1;32m   1406\u001b[0m         \u001b[0mself\u001b[0m\u001b[0;34m.\u001b[0m\u001b[0mhandles\u001b[0m\u001b[0;34m:\u001b[0m \u001b[0mIOHandles\u001b[0m \u001b[0;34m|\u001b[0m \u001b[0;32mNone\u001b[0m \u001b[0;34m=\u001b[0m \u001b[0;32mNone\u001b[0m\u001b[0;34m\u001b[0m\u001b[0;34m\u001b[0m\u001b[0m\n\u001b[0;32m-> 1407\u001b[0;31m         \u001b[0mself\u001b[0m\u001b[0;34m.\u001b[0m\u001b[0m_engine\u001b[0m \u001b[0;34m=\u001b[0m \u001b[0mself\u001b[0m\u001b[0;34m.\u001b[0m\u001b[0m_make_engine\u001b[0m\u001b[0;34m(\u001b[0m\u001b[0mf\u001b[0m\u001b[0;34m,\u001b[0m \u001b[0mself\u001b[0m\u001b[0;34m.\u001b[0m\u001b[0mengine\u001b[0m\u001b[0;34m)\u001b[0m\u001b[0;34m\u001b[0m\u001b[0;34m\u001b[0m\u001b[0m\n\u001b[0m\u001b[1;32m   1408\u001b[0m \u001b[0;34m\u001b[0m\u001b[0m\n\u001b[1;32m   1409\u001b[0m     \u001b[0;32mdef\u001b[0m \u001b[0mclose\u001b[0m\u001b[0;34m(\u001b[0m\u001b[0mself\u001b[0m\u001b[0;34m)\u001b[0m \u001b[0;34m->\u001b[0m \u001b[0;32mNone\u001b[0m\u001b[0;34m:\u001b[0m\u001b[0;34m\u001b[0m\u001b[0;34m\u001b[0m\u001b[0m\n",
            "\u001b[0;32m/usr/local/lib/python3.10/dist-packages/pandas/io/parsers/readers.py\u001b[0m in \u001b[0;36m_make_engine\u001b[0;34m(self, f, engine)\u001b[0m\n\u001b[1;32m   1659\u001b[0m                 \u001b[0;32mif\u001b[0m \u001b[0;34m\"b\"\u001b[0m \u001b[0;32mnot\u001b[0m \u001b[0;32min\u001b[0m \u001b[0mmode\u001b[0m\u001b[0;34m:\u001b[0m\u001b[0;34m\u001b[0m\u001b[0;34m\u001b[0m\u001b[0m\n\u001b[1;32m   1660\u001b[0m                     \u001b[0mmode\u001b[0m \u001b[0;34m+=\u001b[0m \u001b[0;34m\"b\"\u001b[0m\u001b[0;34m\u001b[0m\u001b[0;34m\u001b[0m\u001b[0m\n\u001b[0;32m-> 1661\u001b[0;31m             self.handles = get_handle(\n\u001b[0m\u001b[1;32m   1662\u001b[0m                 \u001b[0mf\u001b[0m\u001b[0;34m,\u001b[0m\u001b[0;34m\u001b[0m\u001b[0;34m\u001b[0m\u001b[0m\n\u001b[1;32m   1663\u001b[0m                 \u001b[0mmode\u001b[0m\u001b[0;34m,\u001b[0m\u001b[0;34m\u001b[0m\u001b[0;34m\u001b[0m\u001b[0m\n",
            "\u001b[0;32m/usr/local/lib/python3.10/dist-packages/pandas/io/common.py\u001b[0m in \u001b[0;36mget_handle\u001b[0;34m(path_or_buf, mode, encoding, compression, memory_map, is_text, errors, storage_options)\u001b[0m\n\u001b[1;32m    857\u001b[0m         \u001b[0;32mif\u001b[0m \u001b[0mioargs\u001b[0m\u001b[0;34m.\u001b[0m\u001b[0mencoding\u001b[0m \u001b[0;32mand\u001b[0m \u001b[0;34m\"b\"\u001b[0m \u001b[0;32mnot\u001b[0m \u001b[0;32min\u001b[0m \u001b[0mioargs\u001b[0m\u001b[0;34m.\u001b[0m\u001b[0mmode\u001b[0m\u001b[0;34m:\u001b[0m\u001b[0;34m\u001b[0m\u001b[0;34m\u001b[0m\u001b[0m\n\u001b[1;32m    858\u001b[0m             \u001b[0;31m# Encoding\u001b[0m\u001b[0;34m\u001b[0m\u001b[0;34m\u001b[0m\u001b[0m\n\u001b[0;32m--> 859\u001b[0;31m             handle = open(\n\u001b[0m\u001b[1;32m    860\u001b[0m                 \u001b[0mhandle\u001b[0m\u001b[0;34m,\u001b[0m\u001b[0;34m\u001b[0m\u001b[0;34m\u001b[0m\u001b[0m\n\u001b[1;32m    861\u001b[0m                 \u001b[0mioargs\u001b[0m\u001b[0;34m.\u001b[0m\u001b[0mmode\u001b[0m\u001b[0;34m,\u001b[0m\u001b[0;34m\u001b[0m\u001b[0;34m\u001b[0m\u001b[0m\n",
            "\u001b[0;31mFileNotFoundError\u001b[0m: [Errno 2] No such file or directory: '../data/ColonDiseaseGeneData-Cleaned.csv'"
          ]
        }
      ],
      "source": [
        "gene_data = pd.read_csv('../data/ColonDiseaseGeneData-Cleaned.csv')\n",
        "print(gene_data.shape)"
      ]
    },
    {
      "cell_type": "markdown",
      "metadata": {
        "id": "JN30UpBBpl6Y"
      },
      "source": [
        "There are data from 97 patients (rows) with 10,497 genes (features in columns). A large number of pairwise hypothesis tests are required!     \n",
        "\n",
        "Execute the code in the cell below to view the first 5 columns of the data frame, which includes the expression of the first 4 genes.  "
      ]
    },
    {
      "cell_type": "code",
      "execution_count": null,
      "metadata": {
        "id": "tK61vyI3pl6Y"
      },
      "outputs": [],
      "source": [
        " print(gene_data.iloc[:,:5])"
      ]
    },
    {
      "cell_type": "markdown",
      "metadata": {
        "id": "zVPcKFsTpl6Y"
      },
      "source": [
        "You will apply two FDR control methods to these data to reduce the FDR rate, and compare the results to the Bonferroni method. These methods control the FDR, while not being overly conservative on true positive results, like the Bonferronic correction."
      ]
    },
    {
      "cell_type": "markdown",
      "metadata": {
        "id": "VXe7i_3wpl6Y"
      },
      "source": [
        "### Holm's method\n",
        "\n",
        "The first of these **Holm's method**. Holm's method operates on the ordered set of p-values, $D = \\{ p_{(1)}, p_{(2)}, p_{(3)}, \\ldots, p_{(n)} \\}$. The threshold is dynamic with the order of the P-value. For the $ith$ p-value, $p(i)$ for $N$ pairwise tests is:  \n",
        "\n",
        "$$p(i) \\le Threshold(Holm's) = \\frac{\\alpha}{N - i + 1}$$\n",
        "\n",
        "For example: for the 10th ordered p-value with 1,000 total tests (genes) and significance level of 0.05, the cutoff is:\n",
        "\n",
        "$$p(10) \\le \\frac{0.05}{1000 - 10 + 1} = 0.00005045$$"
      ]
    },
    {
      "cell_type": "markdown",
      "metadata": {
        "id": "dRto5y5Npl6Z"
      },
      "source": [
        "### Map process  \n",
        "\n",
        "> **Exercise 01-5:** To start the processing of these data you will first create and execute code for a map process. The map process groups the data by the patient's disease into 2 data frames, `ulcerative`, and `crohns`. The keys for each of these key-value pairs are the gene identifier. Notice that one key is all that is needed in this case. Now do the following to create and execute a function, `map_gene` to do the following:   \n",
        "> 1. Create a logical mask and group the values by `Disease State`.\n",
        "> 2. Use the mask to divide the original data frame into two data frames.\n",
        "> 3. Return the transpose of the two data frames, removing the `Disease State` column. The result of this operation should be data frames with gene expressions for each patient in the columns and the gene identifier as the row index.\n",
        "> 4. Print the heads of the two data frames.  "
      ]
    },
    {
      "cell_type": "code",
      "execution_count": null,
      "metadata": {
        "id": "gA9YS92Mpl6a"
      },
      "outputs": [],
      "source": [
        "def map_gene(gene_data):\n",
        "    ## Your code goes below\n",
        "    ## First, separate the columns by disease type\n",
        "    mask = gene_data.loc[:,'Disease State'] == 'Ulcerative Colitis (UC)'\n",
        "    ulcerative = gene_data[mask]\n",
        "    crohns = gene_data[np.logical_not(mask)]\n",
        "    return ulcerative.iloc[:,1:].transpose(), crohns.iloc[:,1:].transpose()\n",
        "\n",
        "ulcerative, crohns = map_gene(gene_data)"
      ]
    },
    {
      "cell_type": "markdown",
      "metadata": {
        "id": "X8QrYb0xpl6a"
      },
      "source": [
        "> 3. Execute the code in the two cells below to display the heads of these data frames and examine the results."
      ]
    },
    {
      "cell_type": "code",
      "execution_count": null,
      "metadata": {
        "id": "SCWb5SQNpl6a"
      },
      "outputs": [],
      "source": [
        "ulcerative.head()"
      ]
    },
    {
      "cell_type": "code",
      "execution_count": null,
      "metadata": {
        "id": "MepiDbQepl6a"
      },
      "outputs": [],
      "source": [
        "crohns.head()"
      ]
    },
    {
      "cell_type": "markdown",
      "metadata": {
        "id": "y6qJVvCgpl6a"
      },
      "source": [
        "### Reduce process\n",
        "\n",
        "> **Exercise 01-6:** With the key-value pairs organized by disease state, it is time to create and execute code of a reduce process. The reduce process will compute the pairwise t-statistics and p-values for each gene and return the sorted results. Specifically, your `gene_test` with arguments of the two mapped data frames will do the following:   \n",
        "> 1. Create an empty results data frame with using the hash key (gene identifier) as an index and columns t_statistics, and p-value.\n",
        "> 2. Use a `for` loop to iterate over the keys of either data frame.  \n",
        "> 3. Compute the t-statistic and p-value for the gene (key) for the pairwise tests between the data frames.\n",
        "> 4. Assign the values to the row in the data frame using the gene identifier as index with the Pandas `loc` method.    \n",
        "> 5. Sort the results data frame, `inplace`, into ascending order.\n",
        "> 6. Return the resulting data frame.\n",
        "> 7. Call the function and print the first 10 rows of the data frame.  "
      ]
    },
    {
      "cell_type": "code",
      "execution_count": null,
      "metadata": {
        "id": "R17_QCk1pl6a"
      },
      "outputs": [],
      "source": [
        "def gene_test(ulcerative, crohns):\n",
        "    test_results = test_results = pd.DataFrame(index = ulcerative.index, columns=['t_statistic','p_value'])\n",
        "    ## Put your code below.\n",
        "\n",
        "\n",
        "\n",
        "\n",
        "\n",
        "\n",
        "gene_statistics = gene_test(ulcerative, crohns)\n",
        "gene_statistics.head(10)"
      ]
    },
    {
      "cell_type": "markdown",
      "metadata": {
        "id": "KDT1FlgBpl6b"
      },
      "source": [
        "### Significance of results\n",
        "\n",
        "With the gene data reduced to the t-test statistics, you will now determine the significance of these tests. It is important to understand that scientists believe that expression of a disease, like Corhn's, is only in a small number of genes, less than approximately 100.  \n",
        "\n",
        "> **Exercise 01-6:** As a first step in understanding the gene expression significance complete and execute the code in the cell below to find the number of 'significant' genes using the simple single hypothesis test cutoff criteria.  "
      ]
    },
    {
      "cell_type": "code",
      "execution_count": null,
      "metadata": {
        "id": "Vm9HH0v6pl6b"
      },
      "outputs": [],
      "source": [
        "significance_level =0.05\n",
        "## Put your code below.\n",
        "\n",
        "\n"
      ]
    },
    {
      "cell_type": "markdown",
      "metadata": {
        "id": "_nRJXfA2pl6b"
      },
      "source": [
        "> Does this large number of 'statistically significant' results appear credible, given that only a few genes are thought to have significant expression for this disease and why in terms of FDR?    \n",
        "> **End of exercise.**     "
      ]
    },
    {
      "cell_type": "markdown",
      "metadata": {
        "id": "4mNc9U-Fpl6b"
      },
      "source": [
        "> **Answer:**      "
      ]
    },
    {
      "cell_type": "markdown",
      "metadata": {
        "id": "TyIbmvhxpl6b"
      },
      "source": [
        "> **Exercise 01-7:** We have already seen that the Bonferroni correction is a rather conservative approach to testing the significance of large numbers of hypotheses. You will now use the Bonferroni correction to test the significance of the gene expression, by completing the code in the cell below."
      ]
    },
    {
      "cell_type": "code",
      "execution_count": null,
      "metadata": {
        "id": "DvRsSxXHpl6b"
      },
      "outputs": [],
      "source": [
        "## Put your code below.\n",
        "\n",
        "\n",
        "\n"
      ]
    },
    {
      "cell_type": "markdown",
      "metadata": {
        "id": "l2p5K_Vapl6c"
      },
      "source": [
        "> Does the foregoing result seems reasonable in terms of discovery rate and FDR control?    \n",
        "> **End of exercise.**   "
      ]
    },
    {
      "cell_type": "markdown",
      "metadata": {
        "id": "rMuVlCJ4pl6c"
      },
      "source": [
        "> **Answer:**       "
      ]
    },
    {
      "cell_type": "markdown",
      "metadata": {
        "id": "XhLjWYm4pl6c"
      },
      "source": [
        "> **Exercise 01-08:** It may well be the case that the foregoing results using the Bonferroni correction is too conservative. You will now apply the Holms method to determining significance of the gene expression test results. In the cell below complete the `holms_significance` function with arguments of the results data frame and the significance level. This function does the following:  \n",
        "> 1. Find the number of test results and compute the denominator used for the cutoff calculation.\n",
        "> 2. Compute the vector of thresholds using the Holms formula. Use the Python `range`function to get the values of the index i. But, keep in mind that range produces a zero-indexed iterator, and the algorithm needs a one-indexed list.  Use the [numpy.divide](https://numpy.org/doc/stable/reference/generated/numpy.divide.html) function to perform the vector divide. Save these threshold values in a data frame in a 'holms_threshold' column.   \n",
        "> 3. Using the threshold values compute a logical vector and save it in a logical type column named 'significant' in the data frame.\n",
        "> 4. Return the data frame.\n",
        "> Finally, execute the function and save the results in a data frame. Then find and print the length of the subset where the 'significance' value is True."
      ]
    },
    {
      "cell_type": "code",
      "execution_count": null,
      "metadata": {
        "id": "70SSmdNLpl6c"
      },
      "outputs": [],
      "source": [
        "def holms_significance(test_results, significance):\n",
        "    ## First compute the thresholds for each of the ordered tests\n",
        "    ## Put your code below.\n",
        "\n",
        "\n",
        "\n",
        "\n",
        "\n",
        "holms_results = holms_significance(gene_statistics, significance_level)\n",
        "len(holms_results.loc[holms_results.loc[:,'significant'],:])"
      ]
    },
    {
      "cell_type": "markdown",
      "metadata": {
        "id": "nw382VqVpl6c"
      },
      "source": [
        "> Consider the differences between the calculation of the Bonferroni correction and Holm's threshold. Do you expect any practical difference for large number of test and small test index, $i$? Does this relationship explain the similarity of the results in this case?  \n",
        "> **End of exercise.**"
      ]
    },
    {
      "cell_type": "markdown",
      "metadata": {
        "id": "55IS37ZDpl6c"
      },
      "source": [
        "> **Answer:**\n"
      ]
    },
    {
      "cell_type": "markdown",
      "metadata": {
        "id": "GNAEO7l3pl6d"
      },
      "source": [
        "You can visualize the results of the Holm's method test. The plot has two key elements:  \n",
        "1. Plot the curve of the p-values vs. the order number, i. The line is color coded by significance or not.\n",
        "2. Plot the threshold line. This line is straight since the threshold is a linear function of i."
      ]
    },
    {
      "cell_type": "code",
      "execution_count": null,
      "metadata": {
        "id": "_i1KGrpZpl6d"
      },
      "outputs": [],
      "source": [
        "def plot_significance(results, threshold):\n",
        "    results['number'] = range(len(results))\n",
        "    fig, ax = plt.subplots(figsize=(8, 6))\n",
        "    sns.lineplot(x='number',y=threshold, data=results, ax=ax, color='black', linewidth=0.5)\n",
        "    sns.scatterplot(x='number',y='p_value', hue='significant', data=results, s=3, ax=ax)\n",
        "    ax.set_title('Significance of gene expression')\n",
        "    ax.set_xlabel('Gene number')\n",
        "    ax.set_ylabel('p-value')\n",
        "\n",
        "plot_significance(holms_results.iloc[:150,:].copy(), 'holms_threshold')"
      ]
    },
    {
      "cell_type": "markdown",
      "metadata": {
        "id": "qiZCUPIFpl6d"
      },
      "source": [
        "Notice the following about this plot:  \n",
        "1. The p-value significance line crosses the threshold point at an apparent break point.   \n",
        "2. The significant p-values are all very small since there are so many tests.\n",
        "3. The Holm's threshold is does not change very much over the first 150 test results."
      ]
    },
    {
      "cell_type": "markdown",
      "metadata": {
        "id": "RhmxtSohpl6d"
      },
      "source": [
        "### Benamini-Hochberg FDR Control\n",
        "\n",
        "The Benamini-Hochberg FDR control algorithm is another way to control false discoveries. Stat with an ordered set of $n$ p-values, $D = \\{ p_{(1)}, p_{(2)}, p_{(3)}, \\ldots, p_{(n)} \\}$ we define a false discovery rate, $q$:\n",
        "\n",
        "$$FDR(D) \\le q$$\n",
        "\n",
        "The cutoff threshold for the ith p-value is then:\n",
        "$$p_{(i)} \\le Threshold(D_q) = \\frac{q}{n} i$$"
      ]
    },
    {
      "cell_type": "markdown",
      "metadata": {
        "id": "RP98sR0Mpl6d"
      },
      "source": [
        "> **Exercise 01-9:** In this exercise you will apply the Benamini-Hochberg FDR control algorithm for testing the significance of the gene expressions. The `BH_significance` function is quite similar to the Holm's method function you have already created. Given the large number of genes you must use a low false discovery rate, $q = 0.001$, or 1 out of 1,000.\n",
        "> Execute your function, saving the result. Then print the number of significant cases."
      ]
    },
    {
      "cell_type": "code",
      "execution_count": null,
      "metadata": {
        "id": "3rnmC7_Gpl6d"
      },
      "outputs": [],
      "source": [
        "def BH_significance(test_results, false_discovery_tollerance):\n",
        "    ## First compute the thresholds for each of the ordered tests\n",
        "    ## Put your code below.\n",
        "\n",
        "\n",
        "\n",
        "\n",
        "\n",
        "\n",
        "BH_results = BH_significance(gene_statistics, 0.001)\n",
        "len(BH_results.loc[BH_results.loc[:,'significant'],:])"
      ]
    },
    {
      "cell_type": "markdown",
      "metadata": {
        "id": "S3XPIwPJpl6d"
      },
      "source": [
        "> This result differs from the first two FDR control methods you have applied. Given the false discovery parameter of 0.001 do you think this is a reasonable result and why?"
      ]
    },
    {
      "cell_type": "markdown",
      "metadata": {
        "id": "RNceCnArpl6e"
      },
      "source": [
        "> **Answer:**       "
      ]
    },
    {
      "cell_type": "markdown",
      "metadata": {
        "id": "XIgwmoejpl6e"
      },
      "source": [
        "Finally, execute the code in the cell below and examine the resulting plot."
      ]
    },
    {
      "cell_type": "code",
      "execution_count": null,
      "metadata": {
        "id": "BEB6MQCFpl6e"
      },
      "outputs": [],
      "source": [
        "plot_significance(BH_results.iloc[:150,:].copy(), 'bh_threshold')"
      ]
    },
    {
      "cell_type": "markdown",
      "metadata": {
        "id": "ksQ5D9mapl6e"
      },
      "source": [
        "> **Exercise 01-10**: Compare the plots of results of the Benamini-Hochberg FDR control method to those of Holm's method. Why does the Benamini-Hochberg FDR control method give a more dynamic or adaptive result for the case where $i << n$?"
      ]
    },
    {
      "cell_type": "markdown",
      "metadata": {
        "id": "jgsLhqKxpl6e"
      },
      "source": [
        "> **Answer:**       "
      ]
    },
    {
      "cell_type": "markdown",
      "metadata": {
        "id": "1-Mpjwuapl6e"
      },
      "source": [
        "##### Copyright 2021, 2022, 2023, Stephen F. Elston. All rights reserved."
      ]
    },
    {
      "cell_type": "code",
      "execution_count": null,
      "metadata": {
        "id": "bJ4sXfNapl6e"
      },
      "outputs": [],
      "source": []
    }
  ],
  "metadata": {
    "kernelspec": {
      "display_name": "Python 3 (ipykernel)",
      "language": "python",
      "name": "python3"
    },
    "language_info": {
      "codemirror_mode": {
        "name": "ipython",
        "version": 3
      },
      "file_extension": ".py",
      "mimetype": "text/x-python",
      "name": "python",
      "nbconvert_exporter": "python",
      "pygments_lexer": "ipython3",
      "version": "3.9.18"
    },
    "colab": {
      "provenance": []
    }
  },
  "nbformat": 4,
  "nbformat_minor": 0
}